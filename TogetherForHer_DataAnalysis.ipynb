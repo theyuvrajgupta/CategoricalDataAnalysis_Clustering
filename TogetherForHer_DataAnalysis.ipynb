{
  "nbformat": 4,
  "nbformat_minor": 0,
  "metadata": {
    "colab": {
      "name": "TogetherForHer_DataAnalysis.ipynb",
      "provenance": [],
      "collapsed_sections": [],
      "authorship_tag": "ABX9TyNzPoy1sSVZnym2ywsr6JYw",
      "include_colab_link": true
    },
    "kernelspec": {
      "name": "python3",
      "display_name": "Python 3"
    },
    "language_info": {
      "name": "python"
    }
  },
  "cells": [
    {
      "cell_type": "markdown",
      "metadata": {
        "id": "view-in-github",
        "colab_type": "text"
      },
      "source": [
        "<a href=\"https://colab.research.google.com/github/theyuvrajgupta/CategoricalDataAnalysis_Clustering/blob/main/TogetherForHer_DataAnalysis.ipynb\" target=\"_parent\"><img src=\"https://colab.research.google.com/assets/colab-badge.svg\" alt=\"Open In Colab\"/></a>"
      ]
    },
    {
      "cell_type": "markdown",
      "metadata": {
        "id": "vd81p1R0B2Sx"
      },
      "source": [
        "## TogetherForHer Data Analysis"
      ]
    },
    {
      "cell_type": "markdown",
      "metadata": {
        "id": "GkEDkQ1qCDSA"
      },
      "source": [
        "### In this analysis, we will use various logs obtained from the app users to derive meaningful interpretations to improve the user experience and understand the current experience of the app users.\n",
        "### We will also look at some of the data collected from HealthMachine <sup>TM</sup> which contains various quizzes and PHI."
      ]
    },
    {
      "cell_type": "code",
      "metadata": {
        "colab": {
          "base_uri": "https://localhost:8080/"
        },
        "id": "cJfWc3qX4Hs_",
        "outputId": "4396aa81-0f99-49ec-c81f-fd321a560e8d"
      },
      "source": [
        "# install Kmodes for clustering\n",
        "\n",
        "pip install kmodes"
      ],
      "execution_count": 2,
      "outputs": [
        {
          "output_type": "stream",
          "name": "stdout",
          "text": [
            "Collecting kmodes\n",
            "  Downloading kmodes-0.11.0-py2.py3-none-any.whl (18 kB)\n",
            "Requirement already satisfied: numpy>=1.10.4 in /usr/local/lib/python3.7/dist-packages (from kmodes) (1.19.5)\n",
            "Requirement already satisfied: scipy>=0.13.3 in /usr/local/lib/python3.7/dist-packages (from kmodes) (1.4.1)\n",
            "Requirement already satisfied: scikit-learn>=0.22.0 in /usr/local/lib/python3.7/dist-packages (from kmodes) (0.22.2.post1)\n",
            "Requirement already satisfied: joblib>=0.11 in /usr/local/lib/python3.7/dist-packages (from kmodes) (1.0.1)\n",
            "Installing collected packages: kmodes\n",
            "Successfully installed kmodes-0.11.0\n"
          ]
        }
      ]
    },
    {
      "cell_type": "code",
      "metadata": {
        "id": "aQpOYdTICKfP"
      },
      "source": [
        "# Importing required libararies\n",
        "\n",
        "import numpy as np\n",
        "import csv\n",
        "import pandas as pd\n",
        "import matplotlib.pyplot as plt\n",
        "import seaborn as sns\n",
        "from google.colab import drive\n",
        "from kmodes.kmodes import KModes\n",
        "import warnings\n",
        "warnings.filterwarnings(\"ignore\") "
      ],
      "execution_count": 3,
      "outputs": []
    },
    {
      "cell_type": "code",
      "metadata": {
        "colab": {
          "base_uri": "https://localhost:8080/"
        },
        "id": "cdK_0G-6CNsx",
        "outputId": "db0517a0-3ea6-4186-dd6d-37a30a8b775e"
      },
      "source": [
        "# Mounting Google drive to read data\n",
        "\n",
        "drive.mount('/gdrive')\n",
        "%cd /gdrive"
      ],
      "execution_count": 4,
      "outputs": [
        {
          "output_type": "stream",
          "name": "stdout",
          "text": [
            "Mounted at /gdrive\n",
            "/gdrive\n"
          ]
        }
      ]
    },
    {
      "cell_type": "markdown",
      "metadata": {
        "id": "ZX9inCjSLgsz"
      },
      "source": [
        "##### TRAFFIC SOURCE DATA EDA"
      ]
    },
    {
      "cell_type": "code",
      "metadata": {
        "id": "kG59v37sFbBv"
      },
      "source": [
        "# Data path from drive\n",
        "\n",
        "trafficSource_data_path = \"/gdrive/MyDrive/YUVRAJ GUPTA/Event Details/tfh_traffic_source_data.csv\""
      ],
      "execution_count": 5,
      "outputs": []
    },
    {
      "cell_type": "code",
      "metadata": {
        "id": "6rhpjGPDFKLu"
      },
      "source": [
        "# Reading the data\n",
        "\n",
        "trafficSource_df = pd.read_csv(trafficSource_data_path)"
      ],
      "execution_count": 6,
      "outputs": []
    },
    {
      "cell_type": "code",
      "metadata": {
        "id": "zIfj9iDFFM7W",
        "colab": {
          "base_uri": "https://localhost:8080/",
          "height": 359
        },
        "outputId": "8f692506-c7db-4cdc-e64a-f48ba78694d8"
      },
      "source": [
        "trafficSource_df.head(10)"
      ],
      "execution_count": 7,
      "outputs": [
        {
          "output_type": "execute_result",
          "data": {
            "text/html": [
              "<div>\n",
              "<style scoped>\n",
              "    .dataframe tbody tr th:only-of-type {\n",
              "        vertical-align: middle;\n",
              "    }\n",
              "\n",
              "    .dataframe tbody tr th {\n",
              "        vertical-align: top;\n",
              "    }\n",
              "\n",
              "    .dataframe thead th {\n",
              "        text-align: right;\n",
              "    }\n",
              "</style>\n",
              "<table border=\"1\" class=\"dataframe\">\n",
              "  <thead>\n",
              "    <tr style=\"text-align: right;\">\n",
              "      <th></th>\n",
              "      <th>user_id</th>\n",
              "      <th>name</th>\n",
              "      <th>medium</th>\n",
              "      <th>source</th>\n",
              "    </tr>\n",
              "  </thead>\n",
              "  <tbody>\n",
              "    <tr>\n",
              "      <th>0</th>\n",
              "      <td>30086</td>\n",
              "      <td>(direct)</td>\n",
              "      <td>(none)</td>\n",
              "      <td>(direct)</td>\n",
              "    </tr>\n",
              "    <tr>\n",
              "      <th>1</th>\n",
              "      <td>30733</td>\n",
              "      <td>(direct)</td>\n",
              "      <td>(none)</td>\n",
              "      <td>(direct)</td>\n",
              "    </tr>\n",
              "    <tr>\n",
              "      <th>2</th>\n",
              "      <td>31278</td>\n",
              "      <td>(direct)</td>\n",
              "      <td>(none)</td>\n",
              "      <td>(direct)</td>\n",
              "    </tr>\n",
              "    <tr>\n",
              "      <th>3</th>\n",
              "      <td>30372</td>\n",
              "      <td>(direct)</td>\n",
              "      <td>(none)</td>\n",
              "      <td>(direct)</td>\n",
              "    </tr>\n",
              "    <tr>\n",
              "      <th>4</th>\n",
              "      <td>30328</td>\n",
              "      <td>(direct)</td>\n",
              "      <td>(none)</td>\n",
              "      <td>(direct)</td>\n",
              "    </tr>\n",
              "    <tr>\n",
              "      <th>5</th>\n",
              "      <td>30059</td>\n",
              "      <td>(direct)</td>\n",
              "      <td>(none)</td>\n",
              "      <td>(direct)</td>\n",
              "    </tr>\n",
              "    <tr>\n",
              "      <th>6</th>\n",
              "      <td>30349</td>\n",
              "      <td>(direct)</td>\n",
              "      <td>(none)</td>\n",
              "      <td>(direct)</td>\n",
              "    </tr>\n",
              "    <tr>\n",
              "      <th>7</th>\n",
              "      <td>30017</td>\n",
              "      <td>(direct)</td>\n",
              "      <td>(none)</td>\n",
              "      <td>(direct)</td>\n",
              "    </tr>\n",
              "    <tr>\n",
              "      <th>8</th>\n",
              "      <td>30310</td>\n",
              "      <td>(direct)</td>\n",
              "      <td>(none)</td>\n",
              "      <td>(direct)</td>\n",
              "    </tr>\n",
              "    <tr>\n",
              "      <th>9</th>\n",
              "      <td>31059</td>\n",
              "      <td>NaN</td>\n",
              "      <td>organic</td>\n",
              "      <td>google-play</td>\n",
              "    </tr>\n",
              "  </tbody>\n",
              "</table>\n",
              "</div>"
            ],
            "text/plain": [
              "   user_id      name   medium       source\n",
              "0    30086  (direct)   (none)     (direct)\n",
              "1    30733  (direct)   (none)     (direct)\n",
              "2    31278  (direct)   (none)     (direct)\n",
              "3    30372  (direct)   (none)     (direct)\n",
              "4    30328  (direct)   (none)     (direct)\n",
              "5    30059  (direct)   (none)     (direct)\n",
              "6    30349  (direct)   (none)     (direct)\n",
              "7    30017  (direct)   (none)     (direct)\n",
              "8    30310  (direct)   (none)     (direct)\n",
              "9    31059       NaN  organic  google-play"
            ]
          },
          "metadata": {},
          "execution_count": 7
        }
      ]
    },
    {
      "cell_type": "code",
      "metadata": {
        "id": "sn6GjNT7B7fH",
        "colab": {
          "base_uri": "https://localhost:8080/"
        },
        "outputId": "66e3e0f1-0fd9-4fa5-8ece-339c196faf2b"
      },
      "source": [
        "# Sanity checks on the dataframe\n",
        "\n",
        "trafficSource_df.shape"
      ],
      "execution_count": 8,
      "outputs": [
        {
          "output_type": "execute_result",
          "data": {
            "text/plain": [
              "(3793, 4)"
            ]
          },
          "metadata": {},
          "execution_count": 8
        }
      ]
    },
    {
      "cell_type": "code",
      "metadata": {
        "id": "f8cSDS7CCA_F",
        "colab": {
          "base_uri": "https://localhost:8080/"
        },
        "outputId": "3f004c8d-b873-470a-b5d1-8bda95d499de"
      },
      "source": [
        "trafficSource_df.info()"
      ],
      "execution_count": 9,
      "outputs": [
        {
          "output_type": "stream",
          "name": "stdout",
          "text": [
            "<class 'pandas.core.frame.DataFrame'>\n",
            "RangeIndex: 3793 entries, 0 to 3792\n",
            "Data columns (total 4 columns):\n",
            " #   Column   Non-Null Count  Dtype \n",
            "---  ------   --------------  ----- \n",
            " 0   user_id  3793 non-null   int64 \n",
            " 1   name     2825 non-null   object\n",
            " 2   medium   3713 non-null   object\n",
            " 3   source   3745 non-null   object\n",
            "dtypes: int64(1), object(3)\n",
            "memory usage: 118.7+ KB\n"
          ]
        }
      ]
    },
    {
      "cell_type": "code",
      "metadata": {
        "id": "j-K4p_XrCBOU",
        "colab": {
          "base_uri": "https://localhost:8080/"
        },
        "outputId": "19f18e4b-91c1-402c-d872-2681038db6ae"
      },
      "source": [
        "trafficSource_df.medium.unique()"
      ],
      "execution_count": 10,
      "outputs": [
        {
          "output_type": "execute_result",
          "data": {
            "text/plain": [
              "array(['(none)', 'organic', 'cpc', nan, 'nivi6', 'Share', 'tfh_group'],\n",
              "      dtype=object)"
            ]
          },
          "metadata": {},
          "execution_count": 10
        }
      ]
    },
    {
      "cell_type": "code",
      "metadata": {
        "id": "n5a5D78YCBUT",
        "colab": {
          "base_uri": "https://localhost:8080/"
        },
        "outputId": "f0e944c8-e8e2-4ef7-bf5d-e02bd5361c77"
      },
      "source": [
        "trafficSource_df.source.unique()"
      ],
      "execution_count": 11,
      "outputs": [
        {
          "output_type": "execute_result",
          "data": {
            "text/plain": [
              "array(['(direct)', 'google-play', 'google', nan, 'adgebra', 'nivi6',\n",
              "       'Branch', 'workplace'], dtype=object)"
            ]
          },
          "metadata": {},
          "execution_count": 11
        }
      ]
    },
    {
      "cell_type": "markdown",
      "metadata": {
        "id": "SAnN7JRyPcif"
      },
      "source": [
        "##### We will now perform some string manipulations for the\n",
        "##### source data to make the entries more uniform"
      ]
    },
    {
      "cell_type": "code",
      "metadata": {
        "id": "ZHta8KG3Bs45"
      },
      "source": [
        "trafficSource_df.medium = trafficSource_df.medium.str.replace(\"(\", \"\")"
      ],
      "execution_count": 12,
      "outputs": []
    },
    {
      "cell_type": "code",
      "metadata": {
        "id": "bsCqTPwbjsLl"
      },
      "source": [
        "trafficSource_df.medium = trafficSource_df.medium.str.replace(\")\", \"\")"
      ],
      "execution_count": 13,
      "outputs": []
    },
    {
      "cell_type": "code",
      "metadata": {
        "id": "kZ5sVZhQjsY-"
      },
      "source": [
        "trafficSource_df.name = trafficSource_df.name.str.replace(\"(\", \"\")"
      ],
      "execution_count": 14,
      "outputs": []
    },
    {
      "cell_type": "code",
      "metadata": {
        "id": "RQ6dEdHQjsd0"
      },
      "source": [
        "trafficSource_df.name = trafficSource_df.name.str.replace(\")\", \"\")"
      ],
      "execution_count": 15,
      "outputs": []
    },
    {
      "cell_type": "code",
      "metadata": {
        "id": "FKZpVEeKjsh1"
      },
      "source": [
        "trafficSource_df.source = trafficSource_df.source.str.replace(\"(\", \"\")"
      ],
      "execution_count": 16,
      "outputs": []
    },
    {
      "cell_type": "code",
      "metadata": {
        "id": "b0bLt_Itjslg"
      },
      "source": [
        "trafficSource_df.source = trafficSource_df.source.str.replace(\")\", \"\")"
      ],
      "execution_count": 17,
      "outputs": []
    },
    {
      "cell_type": "code",
      "metadata": {
        "colab": {
          "base_uri": "https://localhost:8080/",
          "height": 204
        },
        "id": "My4W9pyzjspZ",
        "outputId": "8eea8d6d-7b1d-477a-9fbb-ddede054fb7f"
      },
      "source": [
        "trafficSource_df.tail()"
      ],
      "execution_count": 18,
      "outputs": [
        {
          "output_type": "execute_result",
          "data": {
            "text/html": [
              "<div>\n",
              "<style scoped>\n",
              "    .dataframe tbody tr th:only-of-type {\n",
              "        vertical-align: middle;\n",
              "    }\n",
              "\n",
              "    .dataframe tbody tr th {\n",
              "        vertical-align: top;\n",
              "    }\n",
              "\n",
              "    .dataframe thead th {\n",
              "        text-align: right;\n",
              "    }\n",
              "</style>\n",
              "<table border=\"1\" class=\"dataframe\">\n",
              "  <thead>\n",
              "    <tr style=\"text-align: right;\">\n",
              "      <th></th>\n",
              "      <th>user_id</th>\n",
              "      <th>name</th>\n",
              "      <th>medium</th>\n",
              "      <th>source</th>\n",
              "    </tr>\n",
              "  </thead>\n",
              "  <tbody>\n",
              "    <tr>\n",
              "      <th>3788</th>\n",
              "      <td>33499</td>\n",
              "      <td>TFH - Google Ads - All of India</td>\n",
              "      <td>cpc</td>\n",
              "      <td>google</td>\n",
              "    </tr>\n",
              "    <tr>\n",
              "      <th>3789</th>\n",
              "      <td>34190</td>\n",
              "      <td>NaN</td>\n",
              "      <td>NaN</td>\n",
              "      <td>NaN</td>\n",
              "    </tr>\n",
              "    <tr>\n",
              "      <th>3790</th>\n",
              "      <td>35092</td>\n",
              "      <td>NaN</td>\n",
              "      <td>NaN</td>\n",
              "      <td>NaN</td>\n",
              "    </tr>\n",
              "    <tr>\n",
              "      <th>3791</th>\n",
              "      <td>35725</td>\n",
              "      <td>TFH - Google Ads - All of India</td>\n",
              "      <td>cpc</td>\n",
              "      <td>google</td>\n",
              "    </tr>\n",
              "    <tr>\n",
              "      <th>3792</th>\n",
              "      <td>35012</td>\n",
              "      <td>TFH - Google Ads - All of India</td>\n",
              "      <td>cpc</td>\n",
              "      <td>google</td>\n",
              "    </tr>\n",
              "  </tbody>\n",
              "</table>\n",
              "</div>"
            ],
            "text/plain": [
              "      user_id                             name medium  source\n",
              "3788    33499  TFH - Google Ads - All of India    cpc  google\n",
              "3789    34190                              NaN    NaN     NaN\n",
              "3790    35092                              NaN    NaN     NaN\n",
              "3791    35725  TFH - Google Ads - All of India    cpc  google\n",
              "3792    35012  TFH - Google Ads - All of India    cpc  google"
            ]
          },
          "metadata": {},
          "execution_count": 18
        }
      ]
    },
    {
      "cell_type": "code",
      "metadata": {
        "colab": {
          "base_uri": "https://localhost:8080/"
        },
        "id": "tmaraJrAjssX",
        "outputId": "7aa68799-f045-4bb5-822d-61babf52d5fc"
      },
      "source": [
        "# Check for null values in the data\n",
        "\n",
        "trafficSource_df.isnull().sum()"
      ],
      "execution_count": 19,
      "outputs": [
        {
          "output_type": "execute_result",
          "data": {
            "text/plain": [
              "user_id      0\n",
              "name       968\n",
              "medium      80\n",
              "source      48\n",
              "dtype: int64"
            ]
          },
          "metadata": {},
          "execution_count": 19
        }
      ]
    },
    {
      "cell_type": "code",
      "metadata": {
        "id": "plkMoi4Qjswk"
      },
      "source": [
        "## Remove rows with all NaN values as they are not useful for analysis\n",
        "\n",
        "trafficSource_df = trafficSource_df[trafficSource_df.name.notna() | trafficSource_df.medium.notna() | trafficSource_df.source.notna()]"
      ],
      "execution_count": 20,
      "outputs": []
    },
    {
      "cell_type": "code",
      "metadata": {
        "colab": {
          "base_uri": "https://localhost:8080/",
          "height": 204
        },
        "id": "88xK-yinjszO",
        "outputId": "08afdd11-407f-426c-f739-d3e7a9d32f6d"
      },
      "source": [
        "trafficSource_df.tail()"
      ],
      "execution_count": 21,
      "outputs": [
        {
          "output_type": "execute_result",
          "data": {
            "text/html": [
              "<div>\n",
              "<style scoped>\n",
              "    .dataframe tbody tr th:only-of-type {\n",
              "        vertical-align: middle;\n",
              "    }\n",
              "\n",
              "    .dataframe tbody tr th {\n",
              "        vertical-align: top;\n",
              "    }\n",
              "\n",
              "    .dataframe thead th {\n",
              "        text-align: right;\n",
              "    }\n",
              "</style>\n",
              "<table border=\"1\" class=\"dataframe\">\n",
              "  <thead>\n",
              "    <tr style=\"text-align: right;\">\n",
              "      <th></th>\n",
              "      <th>user_id</th>\n",
              "      <th>name</th>\n",
              "      <th>medium</th>\n",
              "      <th>source</th>\n",
              "    </tr>\n",
              "  </thead>\n",
              "  <tbody>\n",
              "    <tr>\n",
              "      <th>3786</th>\n",
              "      <td>32679</td>\n",
              "      <td>TFH-Google Ads-1</td>\n",
              "      <td>cpc</td>\n",
              "      <td>google</td>\n",
              "    </tr>\n",
              "    <tr>\n",
              "      <th>3787</th>\n",
              "      <td>33021</td>\n",
              "      <td>TFH - Google Ads - All of India</td>\n",
              "      <td>cpc</td>\n",
              "      <td>google</td>\n",
              "    </tr>\n",
              "    <tr>\n",
              "      <th>3788</th>\n",
              "      <td>33499</td>\n",
              "      <td>TFH - Google Ads - All of India</td>\n",
              "      <td>cpc</td>\n",
              "      <td>google</td>\n",
              "    </tr>\n",
              "    <tr>\n",
              "      <th>3791</th>\n",
              "      <td>35725</td>\n",
              "      <td>TFH - Google Ads - All of India</td>\n",
              "      <td>cpc</td>\n",
              "      <td>google</td>\n",
              "    </tr>\n",
              "    <tr>\n",
              "      <th>3792</th>\n",
              "      <td>35012</td>\n",
              "      <td>TFH - Google Ads - All of India</td>\n",
              "      <td>cpc</td>\n",
              "      <td>google</td>\n",
              "    </tr>\n",
              "  </tbody>\n",
              "</table>\n",
              "</div>"
            ],
            "text/plain": [
              "      user_id                             name medium  source\n",
              "3786    32679                 TFH-Google Ads-1    cpc  google\n",
              "3787    33021  TFH - Google Ads - All of India    cpc  google\n",
              "3788    33499  TFH - Google Ads - All of India    cpc  google\n",
              "3791    35725  TFH - Google Ads - All of India    cpc  google\n",
              "3792    35012  TFH - Google Ads - All of India    cpc  google"
            ]
          },
          "metadata": {},
          "execution_count": 21
        }
      ]
    },
    {
      "cell_type": "code",
      "metadata": {
        "id": "tbJkjBG9mjcW"
      },
      "source": [
        "pathToSave = \"/gdrive/MyDrive/Avegen_Data/tfh_traffic_source_data_cleaned.csv\""
      ],
      "execution_count": null,
      "outputs": []
    },
    {
      "cell_type": "code",
      "metadata": {
        "id": "50RdIXtwjs54"
      },
      "source": [
        "# Save the cleaned data to CSV for visualisation in Power BI\n",
        "\n",
        "trafficSource_df.to_csv(pathToSave)"
      ],
      "execution_count": null,
      "outputs": []
    },
    {
      "cell_type": "markdown",
      "metadata": {
        "id": "f0EHXFcdnNA8"
      },
      "source": [
        "#### VIDEO DATA EDA"
      ]
    },
    {
      "cell_type": "code",
      "metadata": {
        "id": "hhUZ0aNVjs8o"
      },
      "source": [
        "# Data path from drive\n",
        "\n",
        "videoData_path = \"/gdrive/MyDrive/YUVRAJ GUPTA/Form Submissions/tfh_video.xlsx\""
      ],
      "execution_count": null,
      "outputs": []
    },
    {
      "cell_type": "code",
      "metadata": {
        "id": "mD91AGGgnf30"
      },
      "source": [
        "# Read the data\n",
        "\n",
        "videoData_df = pd.read_excel(videoData_path)"
      ],
      "execution_count": null,
      "outputs": []
    },
    {
      "cell_type": "code",
      "metadata": {
        "colab": {
          "base_uri": "https://localhost:8080/",
          "height": 496
        },
        "id": "DYMYAua7ngDj",
        "outputId": "a22d173a-ee48-48e2-8df8-ecfde3fc94fe"
      },
      "source": [
        "videoData_df.head()"
      ],
      "execution_count": null,
      "outputs": [
        {
          "output_type": "execute_result",
          "data": {
            "text/html": [
              "<div>\n",
              "<style scoped>\n",
              "    .dataframe tbody tr th:only-of-type {\n",
              "        vertical-align: middle;\n",
              "    }\n",
              "\n",
              "    .dataframe tbody tr th {\n",
              "        vertical-align: top;\n",
              "    }\n",
              "\n",
              "    .dataframe thead th {\n",
              "        text-align: right;\n",
              "    }\n",
              "</style>\n",
              "<table border=\"1\" class=\"dataframe\">\n",
              "  <thead>\n",
              "    <tr style=\"text-align: right;\">\n",
              "      <th></th>\n",
              "      <th>id</th>\n",
              "      <th>form_id</th>\n",
              "      <th>created_at</th>\n",
              "      <th>updated_at</th>\n",
              "      <th>is_draft</th>\n",
              "      <th>submitted_by_id</th>\n",
              "      <th>submitted_at</th>\n",
              "      <th>root_org_id</th>\n",
              "      <th>activity_id</th>\n",
              "      <th>target_id</th>\n",
              "      <th>target_type</th>\n",
              "      <th>readable_id</th>\n",
              "      <th>ext_ids</th>\n",
              "      <th>deleted_at</th>\n",
              "      <th>form_version</th>\n",
              "      <th>episode_of_care_id</th>\n",
              "      <th>source</th>\n",
              "      <th>video_id</th>\n",
              "      <th>video_title</th>\n",
              "      <th>is_completed</th>\n",
              "      <th>time_watched</th>\n",
              "    </tr>\n",
              "  </thead>\n",
              "  <tbody>\n",
              "    <tr>\n",
              "      <th>0</th>\n",
              "      <td>107186</td>\n",
              "      <td>994</td>\n",
              "      <td>2020-06-22 08:08:38.281</td>\n",
              "      <td>2020-06-22 08:08:38.281</td>\n",
              "      <td>False</td>\n",
              "      <td>29963</td>\n",
              "      <td>2020-06-22 08:08:38.273</td>\n",
              "      <td>1140</td>\n",
              "      <td>NaN</td>\n",
              "      <td>256195</td>\n",
              "      <td>Patient</td>\n",
              "      <td>DKR-31H</td>\n",
              "      <td>{'hm_note_id': {}}</td>\n",
              "      <td>NaN</td>\n",
              "      <td>1</td>\n",
              "      <td>NaN</td>\n",
              "      <td>health_machine</td>\n",
              "      <td>omEh3lIl0cs</td>\n",
              "      <td>डॉ. अश्विनी से जानिए गर्भावस्था में बवासीर से ...</td>\n",
              "      <td>NaN</td>\n",
              "      <td>8</td>\n",
              "    </tr>\n",
              "    <tr>\n",
              "      <th>1</th>\n",
              "      <td>105773</td>\n",
              "      <td>994</td>\n",
              "      <td>2020-06-18 07:15:54.204</td>\n",
              "      <td>2020-06-18 07:15:54.204</td>\n",
              "      <td>False</td>\n",
              "      <td>29956</td>\n",
              "      <td>2020-06-18 07:15:54.199</td>\n",
              "      <td>1140</td>\n",
              "      <td>NaN</td>\n",
              "      <td>255758</td>\n",
              "      <td>Patient</td>\n",
              "      <td>3LR-L42</td>\n",
              "      <td>{'hm_note_id': {}}</td>\n",
              "      <td>NaN</td>\n",
              "      <td>1</td>\n",
              "      <td>NaN</td>\n",
              "      <td>health_machine</td>\n",
              "      <td>38L_iUyDJDg</td>\n",
              "      <td>गर्भावस्था में होनेवाले खिचाव के निशान को मिटा...</td>\n",
              "      <td>NaN</td>\n",
              "      <td>189</td>\n",
              "    </tr>\n",
              "    <tr>\n",
              "      <th>2</th>\n",
              "      <td>106151</td>\n",
              "      <td>994</td>\n",
              "      <td>2020-06-19 09:12:54.608</td>\n",
              "      <td>2020-06-19 09:12:54.608</td>\n",
              "      <td>False</td>\n",
              "      <td>29963</td>\n",
              "      <td>2020-06-19 09:12:54.592</td>\n",
              "      <td>1140</td>\n",
              "      <td>NaN</td>\n",
              "      <td>256195</td>\n",
              "      <td>Patient</td>\n",
              "      <td>GFJ-CBP</td>\n",
              "      <td>{'hm_note_id': {}}</td>\n",
              "      <td>NaN</td>\n",
              "      <td>1</td>\n",
              "      <td>NaN</td>\n",
              "      <td>health_machine</td>\n",
              "      <td>b87d_vzghOU</td>\n",
              "      <td>समय से पहले डिलीवरी या प्रीमैच्योर डिलीवरी के ...</td>\n",
              "      <td>NaN</td>\n",
              "      <td>8</td>\n",
              "    </tr>\n",
              "    <tr>\n",
              "      <th>3</th>\n",
              "      <td>107189</td>\n",
              "      <td>994</td>\n",
              "      <td>2020-06-22 08:08:57.028</td>\n",
              "      <td>2020-06-22 08:08:57.028</td>\n",
              "      <td>False</td>\n",
              "      <td>29963</td>\n",
              "      <td>2020-06-22 08:08:57.022</td>\n",
              "      <td>1140</td>\n",
              "      <td>NaN</td>\n",
              "      <td>256195</td>\n",
              "      <td>Patient</td>\n",
              "      <td>NAM-Z3H</td>\n",
              "      <td>{'hm_note_id': {}}</td>\n",
              "      <td>NaN</td>\n",
              "      <td>1</td>\n",
              "      <td>NaN</td>\n",
              "      <td>health_machine</td>\n",
              "      <td>4O5eOa_eIBk</td>\n",
              "      <td>डॉ. शिल्पा कहती हैं, आयरन युक्त भोजन खाएं, अपन...</td>\n",
              "      <td>NaN</td>\n",
              "      <td>9</td>\n",
              "    </tr>\n",
              "    <tr>\n",
              "      <th>4</th>\n",
              "      <td>106162</td>\n",
              "      <td>994</td>\n",
              "      <td>2020-06-19 09:33:04.733</td>\n",
              "      <td>2020-06-19 09:33:04.733</td>\n",
              "      <td>False</td>\n",
              "      <td>29963</td>\n",
              "      <td>2020-06-19 09:33:04.726</td>\n",
              "      <td>1140</td>\n",
              "      <td>NaN</td>\n",
              "      <td>256195</td>\n",
              "      <td>Patient</td>\n",
              "      <td>7U8-HBK</td>\n",
              "      <td>{'hm_note_id': {}}</td>\n",
              "      <td>NaN</td>\n",
              "      <td>1</td>\n",
              "      <td>NaN</td>\n",
              "      <td>health_machine</td>\n",
              "      <td>v3lS4LcWfiY</td>\n",
              "      <td>बच्चे को जन्म देने के तुरंत बाद गर्भधारण करने ...</td>\n",
              "      <td>NaN</td>\n",
              "      <td>5</td>\n",
              "    </tr>\n",
              "  </tbody>\n",
              "</table>\n",
              "</div>"
            ],
            "text/plain": [
              "       id  form_id  ... is_completed time_watched\n",
              "0  107186      994  ...          NaN            8\n",
              "1  105773      994  ...          NaN          189\n",
              "2  106151      994  ...          NaN            8\n",
              "3  107189      994  ...          NaN            9\n",
              "4  106162      994  ...          NaN            5\n",
              "\n",
              "[5 rows x 21 columns]"
            ]
          },
          "metadata": {},
          "execution_count": 22
        }
      ]
    },
    {
      "cell_type": "code",
      "metadata": {
        "id": "MZCDLm_pngIM"
      },
      "source": [
        "# There are a lot of columns that are irrelevant for analysis.\n",
        "# Let's choose only the relevant columns to make the data cleaner\n",
        "# and more concise.\n",
        "\n",
        "col_list = ['id', 'video_title', 'is_completed', 'time_watched']\n",
        "\n",
        "videoData_df = videoData_df[col_list]"
      ],
      "execution_count": null,
      "outputs": []
    },
    {
      "cell_type": "code",
      "metadata": {
        "colab": {
          "base_uri": "https://localhost:8080/",
          "height": 204
        },
        "id": "wsBFUighngMO",
        "outputId": "ebee19c7-1501-49f5-e7b0-6501121d2f1d"
      },
      "source": [
        "videoData_df.head()"
      ],
      "execution_count": null,
      "outputs": [
        {
          "output_type": "execute_result",
          "data": {
            "text/html": [
              "<div>\n",
              "<style scoped>\n",
              "    .dataframe tbody tr th:only-of-type {\n",
              "        vertical-align: middle;\n",
              "    }\n",
              "\n",
              "    .dataframe tbody tr th {\n",
              "        vertical-align: top;\n",
              "    }\n",
              "\n",
              "    .dataframe thead th {\n",
              "        text-align: right;\n",
              "    }\n",
              "</style>\n",
              "<table border=\"1\" class=\"dataframe\">\n",
              "  <thead>\n",
              "    <tr style=\"text-align: right;\">\n",
              "      <th></th>\n",
              "      <th>id</th>\n",
              "      <th>video_title</th>\n",
              "      <th>is_completed</th>\n",
              "      <th>time_watched</th>\n",
              "    </tr>\n",
              "  </thead>\n",
              "  <tbody>\n",
              "    <tr>\n",
              "      <th>0</th>\n",
              "      <td>107186</td>\n",
              "      <td>डॉ. अश्विनी से जानिए गर्भावस्था में बवासीर से ...</td>\n",
              "      <td>NaN</td>\n",
              "      <td>8</td>\n",
              "    </tr>\n",
              "    <tr>\n",
              "      <th>1</th>\n",
              "      <td>105773</td>\n",
              "      <td>गर्भावस्था में होनेवाले खिचाव के निशान को मिटा...</td>\n",
              "      <td>NaN</td>\n",
              "      <td>189</td>\n",
              "    </tr>\n",
              "    <tr>\n",
              "      <th>2</th>\n",
              "      <td>106151</td>\n",
              "      <td>समय से पहले डिलीवरी या प्रीमैच्योर डिलीवरी के ...</td>\n",
              "      <td>NaN</td>\n",
              "      <td>8</td>\n",
              "    </tr>\n",
              "    <tr>\n",
              "      <th>3</th>\n",
              "      <td>107189</td>\n",
              "      <td>डॉ. शिल्पा कहती हैं, आयरन युक्त भोजन खाएं, अपन...</td>\n",
              "      <td>NaN</td>\n",
              "      <td>9</td>\n",
              "    </tr>\n",
              "    <tr>\n",
              "      <th>4</th>\n",
              "      <td>106162</td>\n",
              "      <td>बच्चे को जन्म देने के तुरंत बाद गर्भधारण करने ...</td>\n",
              "      <td>NaN</td>\n",
              "      <td>5</td>\n",
              "    </tr>\n",
              "  </tbody>\n",
              "</table>\n",
              "</div>"
            ],
            "text/plain": [
              "       id  ... time_watched\n",
              "0  107186  ...            8\n",
              "1  105773  ...          189\n",
              "2  106151  ...            8\n",
              "3  107189  ...            9\n",
              "4  106162  ...            5\n",
              "\n",
              "[5 rows x 4 columns]"
            ]
          },
          "metadata": {},
          "execution_count": 24
        }
      ]
    },
    {
      "cell_type": "code",
      "metadata": {
        "colab": {
          "base_uri": "https://localhost:8080/"
        },
        "id": "3CqtW59YngQl",
        "outputId": "6f13fb1d-3bec-42f9-d5bc-5e353a9835b4"
      },
      "source": [
        "videoData_df.shape"
      ],
      "execution_count": null,
      "outputs": [
        {
          "output_type": "execute_result",
          "data": {
            "text/plain": [
              "(8913, 4)"
            ]
          },
          "metadata": {},
          "execution_count": 25
        }
      ]
    },
    {
      "cell_type": "code",
      "metadata": {
        "colab": {
          "base_uri": "https://localhost:8080/"
        },
        "id": "-VXTGMMQngU4",
        "outputId": "dc3c35d6-d2dc-424a-e9df-dc5f26d5774d"
      },
      "source": [
        "videoData_df.isnull().sum()"
      ],
      "execution_count": null,
      "outputs": [
        {
          "output_type": "execute_result",
          "data": {
            "text/plain": [
              "id                 0\n",
              "video_title        0\n",
              "is_completed    8913\n",
              "time_watched       0\n",
              "dtype: int64"
            ]
          },
          "metadata": {},
          "execution_count": 26
        }
      ]
    },
    {
      "cell_type": "code",
      "metadata": {
        "id": "IJyatAxDngXy"
      },
      "source": [
        "# Column 'is_completed' contains no data and can also be dropped\n",
        "\n",
        "videoData_df = videoData_df.drop(\"is_completed\", axis=1)"
      ],
      "execution_count": null,
      "outputs": []
    },
    {
      "cell_type": "code",
      "metadata": {
        "colab": {
          "base_uri": "https://localhost:8080/",
          "height": 204
        },
        "id": "5nVTiKK2nga2",
        "outputId": "850c9419-697b-4da9-e5ef-de71a95e53f3"
      },
      "source": [
        "videoData_df.head()"
      ],
      "execution_count": null,
      "outputs": [
        {
          "output_type": "execute_result",
          "data": {
            "text/html": [
              "<div>\n",
              "<style scoped>\n",
              "    .dataframe tbody tr th:only-of-type {\n",
              "        vertical-align: middle;\n",
              "    }\n",
              "\n",
              "    .dataframe tbody tr th {\n",
              "        vertical-align: top;\n",
              "    }\n",
              "\n",
              "    .dataframe thead th {\n",
              "        text-align: right;\n",
              "    }\n",
              "</style>\n",
              "<table border=\"1\" class=\"dataframe\">\n",
              "  <thead>\n",
              "    <tr style=\"text-align: right;\">\n",
              "      <th></th>\n",
              "      <th>id</th>\n",
              "      <th>video_title</th>\n",
              "      <th>time_watched</th>\n",
              "    </tr>\n",
              "  </thead>\n",
              "  <tbody>\n",
              "    <tr>\n",
              "      <th>0</th>\n",
              "      <td>107186</td>\n",
              "      <td>डॉ. अश्विनी से जानिए गर्भावस्था में बवासीर से ...</td>\n",
              "      <td>8</td>\n",
              "    </tr>\n",
              "    <tr>\n",
              "      <th>1</th>\n",
              "      <td>105773</td>\n",
              "      <td>गर्भावस्था में होनेवाले खिचाव के निशान को मिटा...</td>\n",
              "      <td>189</td>\n",
              "    </tr>\n",
              "    <tr>\n",
              "      <th>2</th>\n",
              "      <td>106151</td>\n",
              "      <td>समय से पहले डिलीवरी या प्रीमैच्योर डिलीवरी के ...</td>\n",
              "      <td>8</td>\n",
              "    </tr>\n",
              "    <tr>\n",
              "      <th>3</th>\n",
              "      <td>107189</td>\n",
              "      <td>डॉ. शिल्पा कहती हैं, आयरन युक्त भोजन खाएं, अपन...</td>\n",
              "      <td>9</td>\n",
              "    </tr>\n",
              "    <tr>\n",
              "      <th>4</th>\n",
              "      <td>106162</td>\n",
              "      <td>बच्चे को जन्म देने के तुरंत बाद गर्भधारण करने ...</td>\n",
              "      <td>5</td>\n",
              "    </tr>\n",
              "  </tbody>\n",
              "</table>\n",
              "</div>"
            ],
            "text/plain": [
              "       id                                        video_title  time_watched\n",
              "0  107186  डॉ. अश्विनी से जानिए गर्भावस्था में बवासीर से ...             8\n",
              "1  105773  गर्भावस्था में होनेवाले खिचाव के निशान को मिटा...           189\n",
              "2  106151  समय से पहले डिलीवरी या प्रीमैच्योर डिलीवरी के ...             8\n",
              "3  107189  डॉ. शिल्पा कहती हैं, आयरन युक्त भोजन खाएं, अपन...             9\n",
              "4  106162  बच्चे को जन्म देने के तुरंत बाद गर्भधारण करने ...             5"
            ]
          },
          "metadata": {},
          "execution_count": 28
        }
      ]
    },
    {
      "cell_type": "code",
      "metadata": {
        "colab": {
          "base_uri": "https://localhost:8080/"
        },
        "id": "awxIwx2Sngdv",
        "outputId": "e6866438-3977-42b4-be1b-e093d7833a70"
      },
      "source": [
        "videoData_df.shape"
      ],
      "execution_count": null,
      "outputs": [
        {
          "output_type": "execute_result",
          "data": {
            "text/plain": [
              "(8913, 3)"
            ]
          },
          "metadata": {},
          "execution_count": 34
        }
      ]
    },
    {
      "cell_type": "markdown",
      "metadata": {
        "id": "W5-D402Ytbo3"
      },
      "source": [
        "##### We will build a simple popularity based recommendation system\n",
        "##### to understand the watch patterns and provide smarter recommendations\n",
        "##### to the users in the future."
      ]
    },
    {
      "cell_type": "code",
      "metadata": {
        "id": "v65j7VTEL14B"
      },
      "source": [
        "# Copy the relevant columns to a new dataframe\n",
        "\n",
        "trend_df = videoData_df[['video_title', 'time_watched']].copy()"
      ],
      "execution_count": null,
      "outputs": []
    },
    {
      "cell_type": "code",
      "metadata": {
        "colab": {
          "base_uri": "https://localhost:8080/",
          "height": 204
        },
        "id": "WlGekyMnMDOo",
        "outputId": "092bb21a-1d23-45a1-aa72-b3d565de63fb"
      },
      "source": [
        "trend_df.head()"
      ],
      "execution_count": null,
      "outputs": [
        {
          "output_type": "execute_result",
          "data": {
            "text/html": [
              "<div>\n",
              "<style scoped>\n",
              "    .dataframe tbody tr th:only-of-type {\n",
              "        vertical-align: middle;\n",
              "    }\n",
              "\n",
              "    .dataframe tbody tr th {\n",
              "        vertical-align: top;\n",
              "    }\n",
              "\n",
              "    .dataframe thead th {\n",
              "        text-align: right;\n",
              "    }\n",
              "</style>\n",
              "<table border=\"1\" class=\"dataframe\">\n",
              "  <thead>\n",
              "    <tr style=\"text-align: right;\">\n",
              "      <th></th>\n",
              "      <th>video_title</th>\n",
              "      <th>time_watched</th>\n",
              "    </tr>\n",
              "  </thead>\n",
              "  <tbody>\n",
              "    <tr>\n",
              "      <th>0</th>\n",
              "      <td>डॉ. अश्विनी से जानिए गर्भावस्था में बवासीर से ...</td>\n",
              "      <td>8</td>\n",
              "    </tr>\n",
              "    <tr>\n",
              "      <th>1</th>\n",
              "      <td>गर्भावस्था में होनेवाले खिचाव के निशान को मिटा...</td>\n",
              "      <td>189</td>\n",
              "    </tr>\n",
              "    <tr>\n",
              "      <th>2</th>\n",
              "      <td>समय से पहले डिलीवरी या प्रीमैच्योर डिलीवरी के ...</td>\n",
              "      <td>8</td>\n",
              "    </tr>\n",
              "    <tr>\n",
              "      <th>3</th>\n",
              "      <td>डॉ. शिल्पा कहती हैं, आयरन युक्त भोजन खाएं, अपन...</td>\n",
              "      <td>9</td>\n",
              "    </tr>\n",
              "    <tr>\n",
              "      <th>4</th>\n",
              "      <td>बच्चे को जन्म देने के तुरंत बाद गर्भधारण करने ...</td>\n",
              "      <td>5</td>\n",
              "    </tr>\n",
              "  </tbody>\n",
              "</table>\n",
              "</div>"
            ],
            "text/plain": [
              "                                         video_title  time_watched\n",
              "0  डॉ. अश्विनी से जानिए गर्भावस्था में बवासीर से ...             8\n",
              "1  गर्भावस्था में होनेवाले खिचाव के निशान को मिटा...           189\n",
              "2  समय से पहले डिलीवरी या प्रीमैच्योर डिलीवरी के ...             8\n",
              "3  डॉ. शिल्पा कहती हैं, आयरन युक्त भोजन खाएं, अपन...             9\n",
              "4  बच्चे को जन्म देने के तुरंत बाद गर्भधारण करने ...             5"
            ]
          },
          "metadata": {},
          "execution_count": 31
        }
      ]
    },
    {
      "cell_type": "code",
      "metadata": {
        "colab": {
          "base_uri": "https://localhost:8080/"
        },
        "id": "VJDJ23xH2EX5",
        "outputId": "23489efe-5fab-416f-c2e9-59fa5c951747"
      },
      "source": [
        "trend_df.columns"
      ],
      "execution_count": null,
      "outputs": [
        {
          "output_type": "execute_result",
          "data": {
            "text/plain": [
              "Index(['video_title', 'time_watched'], dtype='object')"
            ]
          },
          "metadata": {},
          "execution_count": 32
        }
      ]
    },
    {
      "cell_type": "code",
      "metadata": {
        "id": "RxaeWHgengpQ"
      },
      "source": [
        "trend_df = pd.DataFrame(videoData_df.groupby('video_title')['time_watched'].count())"
      ],
      "execution_count": null,
      "outputs": []
    },
    {
      "cell_type": "code",
      "metadata": {
        "id": "kPEnn_hOuARG"
      },
      "source": [
        "trend_df = trend_df.reset_index()"
      ],
      "execution_count": null,
      "outputs": []
    },
    {
      "cell_type": "code",
      "metadata": {
        "id": "CYt5nrVmN0sF"
      },
      "source": [
        "trend_df = trend_df.sort_values(by='time_watched', ascending=False)"
      ],
      "execution_count": null,
      "outputs": []
    },
    {
      "cell_type": "code",
      "metadata": {
        "colab": {
          "base_uri": "https://localhost:8080/",
          "height": 359
        },
        "id": "08eoEEov-Nqe",
        "outputId": "cc26455c-2395-4d5e-efc7-243e269bd25e"
      },
      "source": [
        "trend_df.head(10)"
      ],
      "execution_count": null,
      "outputs": [
        {
          "output_type": "execute_result",
          "data": {
            "text/html": [
              "<div>\n",
              "<style scoped>\n",
              "    .dataframe tbody tr th:only-of-type {\n",
              "        vertical-align: middle;\n",
              "    }\n",
              "\n",
              "    .dataframe tbody tr th {\n",
              "        vertical-align: top;\n",
              "    }\n",
              "\n",
              "    .dataframe thead th {\n",
              "        text-align: right;\n",
              "    }\n",
              "</style>\n",
              "<table border=\"1\" class=\"dataframe\">\n",
              "  <thead>\n",
              "    <tr style=\"text-align: right;\">\n",
              "      <th></th>\n",
              "      <th>video_title</th>\n",
              "      <th>time_watched</th>\n",
              "    </tr>\n",
              "  </thead>\n",
              "  <tbody>\n",
              "    <tr>\n",
              "      <th>56</th>\n",
              "      <td>एपिड्यूरल का इंजेक्शन कब लेना चाहिए जानें डॉ. ...</td>\n",
              "      <td>270</td>\n",
              "    </tr>\n",
              "    <tr>\n",
              "      <th>68</th>\n",
              "      <td>गर्भावस्था के हर एक दिन का मेनू जानिए डॉ. शिल्...</td>\n",
              "      <td>250</td>\n",
              "    </tr>\n",
              "    <tr>\n",
              "      <th>118</th>\n",
              "      <td>डॉ. शिल्पा से जानिए तीसरी तिमाही में क्या खाना...</td>\n",
              "      <td>237</td>\n",
              "    </tr>\n",
              "    <tr>\n",
              "      <th>58</th>\n",
              "      <td>एपीसीओटॉमी का मतलब समझिए डॉ अश्विनी से|</td>\n",
              "      <td>221</td>\n",
              "    </tr>\n",
              "    <tr>\n",
              "      <th>127</th>\n",
              "      <td>डॉ. शिल्पा से जानें, दूसरी तिमाही में शरीर को ...</td>\n",
              "      <td>217</td>\n",
              "    </tr>\n",
              "    <tr>\n",
              "      <th>132</th>\n",
              "      <td>दूसरी तिमाही में आपके आहार में क्या बदलाव आने ...</td>\n",
              "      <td>216</td>\n",
              "    </tr>\n",
              "    <tr>\n",
              "      <th>63</th>\n",
              "      <td>गर्भावस्था के दौरान कौन से वसा स्वस्थ होते हैं...</td>\n",
              "      <td>210</td>\n",
              "    </tr>\n",
              "    <tr>\n",
              "      <th>126</th>\n",
              "      <td>डॉ. शिल्पा से जानें, दूसरी तिमाही में प्रोटीन ...</td>\n",
              "      <td>205</td>\n",
              "    </tr>\n",
              "    <tr>\n",
              "      <th>122</th>\n",
              "      <td>डॉ. शिल्पा से जानें गर्भावस्था के दौरान तरल पद...</td>\n",
              "      <td>205</td>\n",
              "    </tr>\n",
              "    <tr>\n",
              "      <th>109</th>\n",
              "      <td>डॉ. शिल्पा कहती हैं इन रेशेदार (फ़ाइब्रॅस) खाद...</td>\n",
              "      <td>204</td>\n",
              "    </tr>\n",
              "  </tbody>\n",
              "</table>\n",
              "</div>"
            ],
            "text/plain": [
              "                                           video_title  time_watched\n",
              "56   एपिड्यूरल का इंजेक्शन कब लेना चाहिए जानें डॉ. ...           270\n",
              "68   गर्भावस्था के हर एक दिन का मेनू जानिए डॉ. शिल्...           250\n",
              "118  डॉ. शिल्पा से जानिए तीसरी तिमाही में क्या खाना...           237\n",
              "58             एपीसीओटॉमी का मतलब समझिए डॉ अश्विनी से|           221\n",
              "127  डॉ. शिल्पा से जानें, दूसरी तिमाही में शरीर को ...           217\n",
              "132  दूसरी तिमाही में आपके आहार में क्या बदलाव आने ...           216\n",
              "63   गर्भावस्था के दौरान कौन से वसा स्वस्थ होते हैं...           210\n",
              "126  डॉ. शिल्पा से जानें, दूसरी तिमाही में प्रोटीन ...           205\n",
              "122  डॉ. शिल्पा से जानें गर्भावस्था के दौरान तरल पद...           205\n",
              "109  डॉ. शिल्पा कहती हैं इन रेशेदार (फ़ाइब्रॅस) खाद...           204"
            ]
          },
          "metadata": {},
          "execution_count": 75
        }
      ]
    },
    {
      "cell_type": "markdown",
      "metadata": {
        "id": "08NlRyfcALOf"
      },
      "source": [
        "#### These are the Top 10 most watched videos on the platform"
      ]
    },
    {
      "cell_type": "code",
      "metadata": {
        "id": "OTdBBGorHLrp",
        "colab": {
          "base_uri": "https://localhost:8080/",
          "height": 359
        },
        "outputId": "6943413d-3bc0-43b2-f30d-5c40294e7666"
      },
      "source": [
        "trend_df.tail(10)"
      ],
      "execution_count": null,
      "outputs": [
        {
          "output_type": "execute_result",
          "data": {
            "text/html": [
              "<div>\n",
              "<style scoped>\n",
              "    .dataframe tbody tr th:only-of-type {\n",
              "        vertical-align: middle;\n",
              "    }\n",
              "\n",
              "    .dataframe tbody tr th {\n",
              "        vertical-align: top;\n",
              "    }\n",
              "\n",
              "    .dataframe thead th {\n",
              "        text-align: right;\n",
              "    }\n",
              "</style>\n",
              "<table border=\"1\" class=\"dataframe\">\n",
              "  <thead>\n",
              "    <tr style=\"text-align: right;\">\n",
              "      <th></th>\n",
              "      <th>video_title</th>\n",
              "      <th>time_watched</th>\n",
              "    </tr>\n",
              "  </thead>\n",
              "  <tbody>\n",
              "    <tr>\n",
              "      <th>143</th>\n",
              "      <td>शिशु के लिए स्तनपान यानि माँ का दूध पिने के फा...</td>\n",
              "      <td>2</td>\n",
              "    </tr>\n",
              "    <tr>\n",
              "      <th>115</th>\n",
              "      <td>डॉ. शिल्पा कहते है, गर्भवस्था में खाएं स्वस्थ ...</td>\n",
              "      <td>2</td>\n",
              "    </tr>\n",
              "    <tr>\n",
              "      <th>55</th>\n",
              "      <td>उलटी और मीच -मीची से छुटकारा पाने के नुस्खे जा...</td>\n",
              "      <td>2</td>\n",
              "    </tr>\n",
              "    <tr>\n",
              "      <th>135</th>\n",
              "      <td>पैरों के दर्द से छुटकारा पाने के नुस्खे जानिएं...</td>\n",
              "      <td>2</td>\n",
              "    </tr>\n",
              "    <tr>\n",
              "      <th>39</th>\n",
              "      <td>Learn about false labour or Braxton Hicks from...</td>\n",
              "      <td>2</td>\n",
              "    </tr>\n",
              "    <tr>\n",
              "      <th>61</th>\n",
              "      <td>गर्भवस्था में क्या खाना चाहियें और क्या नहीं ज...</td>\n",
              "      <td>2</td>\n",
              "    </tr>\n",
              "    <tr>\n",
              "      <th>87</th>\n",
              "      <td>गर्भावस्था मैं सांस फूलने से बचाव के नुस्खे जा...</td>\n",
              "      <td>1</td>\n",
              "    </tr>\n",
              "    <tr>\n",
              "      <th>45</th>\n",
              "      <td>Prevent swelling of feet and legs with Dr. Ash...</td>\n",
              "      <td>1</td>\n",
              "    </tr>\n",
              "    <tr>\n",
              "      <th>90</th>\n",
              "      <td>डॉ अश्विनी कहती है की गर्भावस्था के दौरान आपके...</td>\n",
              "      <td>1</td>\n",
              "    </tr>\n",
              "    <tr>\n",
              "      <th>91</th>\n",
              "      <td>डॉ. अश्विनी आपको बताती हैं कि शिशु को जन्म देन...</td>\n",
              "      <td>1</td>\n",
              "    </tr>\n",
              "  </tbody>\n",
              "</table>\n",
              "</div>"
            ],
            "text/plain": [
              "                                           video_title  time_watched\n",
              "143  शिशु के लिए स्तनपान यानि माँ का दूध पिने के फा...             2\n",
              "115  डॉ. शिल्पा कहते है, गर्भवस्था में खाएं स्वस्थ ...             2\n",
              "55   उलटी और मीच -मीची से छुटकारा पाने के नुस्खे जा...             2\n",
              "135  पैरों के दर्द से छुटकारा पाने के नुस्खे जानिएं...             2\n",
              "39   Learn about false labour or Braxton Hicks from...             2\n",
              "61   गर्भवस्था में क्या खाना चाहियें और क्या नहीं ज...             2\n",
              "87   गर्भावस्था मैं सांस फूलने से बचाव के नुस्खे जा...             1\n",
              "45   Prevent swelling of feet and legs with Dr. Ash...             1\n",
              "90   डॉ अश्विनी कहती है की गर्भावस्था के दौरान आपके...             1\n",
              "91   डॉ. अश्विनी आपको बताती हैं कि शिशु को जन्म देन...             1"
            ]
          },
          "metadata": {},
          "execution_count": 76
        }
      ]
    },
    {
      "cell_type": "markdown",
      "metadata": {
        "id": "IvmmUQfyAauL"
      },
      "source": [
        "#### These are the least watched videos on the platform"
      ]
    },
    {
      "cell_type": "code",
      "metadata": {
        "id": "iF_7416zngyN"
      },
      "source": [
        "# We will now save this data for further visualization in Power BI\n",
        "\n",
        "pathToSave = \"/gdrive/MyDrive/Avegen_Data/tfh_video_cleaned.csv\""
      ],
      "execution_count": null,
      "outputs": []
    },
    {
      "cell_type": "code",
      "metadata": {
        "id": "wFKgCwBbubUL"
      },
      "source": [
        "trend_df.to_csv(pathToSave)"
      ],
      "execution_count": null,
      "outputs": []
    },
    {
      "cell_type": "markdown",
      "metadata": {
        "id": "h8CpP8DbboSp"
      },
      "source": [
        "#### EPIDURAL DATA EDA"
      ]
    },
    {
      "cell_type": "code",
      "metadata": {
        "id": "GIxODFOsubup"
      },
      "source": [
        "# Data path from drive\n",
        "\n",
        "epidural_data = \"/gdrive/MyDrive/YUVRAJ GUPTA/Form Submissions/quiz_epidural.csv\""
      ],
      "execution_count": 22,
      "outputs": []
    },
    {
      "cell_type": "code",
      "metadata": {
        "id": "KhP7J8B2ub1v"
      },
      "source": [
        "# Read the data\n",
        "\n",
        "epidural_df = pd.read_csv(epidural_data)"
      ],
      "execution_count": 23,
      "outputs": []
    },
    {
      "cell_type": "code",
      "metadata": {
        "id": "TOl4ty5NucE7",
        "colab": {
          "base_uri": "https://localhost:8080/",
          "height": 326
        },
        "outputId": "67f8f6f1-2059-4c27-9d08-3a113d300332"
      },
      "source": [
        "epidural_df.head()"
      ],
      "execution_count": 24,
      "outputs": [
        {
          "output_type": "execute_result",
          "data": {
            "text/html": [
              "<div>\n",
              "<style scoped>\n",
              "    .dataframe tbody tr th:only-of-type {\n",
              "        vertical-align: middle;\n",
              "    }\n",
              "\n",
              "    .dataframe tbody tr th {\n",
              "        vertical-align: top;\n",
              "    }\n",
              "\n",
              "    .dataframe thead th {\n",
              "        text-align: right;\n",
              "    }\n",
              "</style>\n",
              "<table border=\"1\" class=\"dataframe\">\n",
              "  <thead>\n",
              "    <tr style=\"text-align: right;\">\n",
              "      <th></th>\n",
              "      <th>id</th>\n",
              "      <th>form_code</th>\n",
              "      <th>root_org_id</th>\n",
              "      <th>created_at</th>\n",
              "      <th>updated_at</th>\n",
              "      <th>deleted_at</th>\n",
              "      <th>submitted_at</th>\n",
              "      <th>is_draft</th>\n",
              "      <th>submitted_by_id</th>\n",
              "      <th>activity_id</th>\n",
              "      <th>target_id</th>\n",
              "      <th>target_type</th>\n",
              "      <th>readable_id</th>\n",
              "      <th>episode_of_care_id</th>\n",
              "      <th>source</th>\n",
              "      <th>id-2</th>\n",
              "      <th>form_code-2</th>\n",
              "      <th>form_submission_id</th>\n",
              "      <th>table_code</th>\n",
              "      <th>row_number</th>\n",
              "      <th>field_name</th>\n",
              "      <th>field_option_id</th>\n",
              "      <th>id-3</th>\n",
              "      <th>form_code-3</th>\n",
              "      <th>table_code-2</th>\n",
              "      <th>field_name-2</th>\n",
              "      <th>field_order</th>\n",
              "      <th>field_text</th>\n",
              "      <th>field_value</th>\n",
              "    </tr>\n",
              "  </thead>\n",
              "  <tbody>\n",
              "    <tr>\n",
              "      <th>0</th>\n",
              "      <td>195792</td>\n",
              "      <td>dm_form_1060_1</td>\n",
              "      <td>1140</td>\n",
              "      <td>2020-12-28 07:59:31.775104</td>\n",
              "      <td>2020-12-28 07:59:31.775104</td>\n",
              "      <td>NaN</td>\n",
              "      <td>2020-12-28 07:59:31.766257</td>\n",
              "      <td>False</td>\n",
              "      <td>30735</td>\n",
              "      <td>NaN</td>\n",
              "      <td>260525</td>\n",
              "      <td>Patient</td>\n",
              "      <td>CZK-SBB</td>\n",
              "      <td>NaN</td>\n",
              "      <td>health_machine</td>\n",
              "      <td>327882</td>\n",
              "      <td>dm_form_1060_1</td>\n",
              "      <td>195792</td>\n",
              "      <td>NaN</td>\n",
              "      <td>NaN</td>\n",
              "      <td>answered_correctly</td>\n",
              "      <td>4124</td>\n",
              "      <td>4124</td>\n",
              "      <td>dm_form_1060_1</td>\n",
              "      <td>dm_form_1060_1</td>\n",
              "      <td>answered_correctly</td>\n",
              "      <td>0</td>\n",
              "      <td>No</td>\n",
              "      <td>no</td>\n",
              "    </tr>\n",
              "    <tr>\n",
              "      <th>1</th>\n",
              "      <td>125192</td>\n",
              "      <td>dm_form_1060_1</td>\n",
              "      <td>1140</td>\n",
              "      <td>2020-08-22 08:50:37.544183</td>\n",
              "      <td>2020-08-22 08:50:37.544183</td>\n",
              "      <td>NaN</td>\n",
              "      <td>2020-08-22 08:50:37.535843</td>\n",
              "      <td>False</td>\n",
              "      <td>29960</td>\n",
              "      <td>NaN</td>\n",
              "      <td>256184</td>\n",
              "      <td>Patient</td>\n",
              "      <td>N9L-W5A</td>\n",
              "      <td>NaN</td>\n",
              "      <td>health_machine</td>\n",
              "      <td>243666</td>\n",
              "      <td>dm_form_1060_1</td>\n",
              "      <td>125192</td>\n",
              "      <td>NaN</td>\n",
              "      <td>NaN</td>\n",
              "      <td>epidural</td>\n",
              "      <td>4123</td>\n",
              "      <td>4123</td>\n",
              "      <td>dm_form_1060_1</td>\n",
              "      <td>dm_form_1060_1</td>\n",
              "      <td>epidural</td>\n",
              "      <td>1</td>\n",
              "      <td>Only in some deliveries</td>\n",
              "      <td>1</td>\n",
              "    </tr>\n",
              "    <tr>\n",
              "      <th>2</th>\n",
              "      <td>125192</td>\n",
              "      <td>dm_form_1060_1</td>\n",
              "      <td>1140</td>\n",
              "      <td>2020-08-22 08:50:37.544183</td>\n",
              "      <td>2020-08-22 08:50:37.544183</td>\n",
              "      <td>NaN</td>\n",
              "      <td>2020-08-22 08:50:37.535843</td>\n",
              "      <td>False</td>\n",
              "      <td>29960</td>\n",
              "      <td>NaN</td>\n",
              "      <td>256184</td>\n",
              "      <td>Patient</td>\n",
              "      <td>N9L-W5A</td>\n",
              "      <td>NaN</td>\n",
              "      <td>health_machine</td>\n",
              "      <td>243667</td>\n",
              "      <td>dm_form_1060_1</td>\n",
              "      <td>125192</td>\n",
              "      <td>NaN</td>\n",
              "      <td>NaN</td>\n",
              "      <td>answered_correctly</td>\n",
              "      <td>4124</td>\n",
              "      <td>4124</td>\n",
              "      <td>dm_form_1060_1</td>\n",
              "      <td>dm_form_1060_1</td>\n",
              "      <td>answered_correctly</td>\n",
              "      <td>0</td>\n",
              "      <td>No</td>\n",
              "      <td>no</td>\n",
              "    </tr>\n",
              "    <tr>\n",
              "      <th>3</th>\n",
              "      <td>126365</td>\n",
              "      <td>dm_form_1060_1</td>\n",
              "      <td>1140</td>\n",
              "      <td>2020-08-24 18:15:59.452925</td>\n",
              "      <td>2020-08-24 18:15:59.452925</td>\n",
              "      <td>NaN</td>\n",
              "      <td>2020-08-24 18:15:59.43375</td>\n",
              "      <td>False</td>\n",
              "      <td>29880</td>\n",
              "      <td>NaN</td>\n",
              "      <td>255724</td>\n",
              "      <td>Patient</td>\n",
              "      <td>K2F-1DY</td>\n",
              "      <td>NaN</td>\n",
              "      <td>health_machine</td>\n",
              "      <td>244410</td>\n",
              "      <td>dm_form_1060_1</td>\n",
              "      <td>126365</td>\n",
              "      <td>NaN</td>\n",
              "      <td>NaN</td>\n",
              "      <td>answered_correctly</td>\n",
              "      <td>4124</td>\n",
              "      <td>4124</td>\n",
              "      <td>dm_form_1060_1</td>\n",
              "      <td>dm_form_1060_1</td>\n",
              "      <td>answered_correctly</td>\n",
              "      <td>0</td>\n",
              "      <td>No</td>\n",
              "      <td>no</td>\n",
              "    </tr>\n",
              "    <tr>\n",
              "      <th>4</th>\n",
              "      <td>130571</td>\n",
              "      <td>dm_form_1060_1</td>\n",
              "      <td>1140</td>\n",
              "      <td>2020-09-03 18:17:50.299408</td>\n",
              "      <td>2020-09-03 18:17:50.299408</td>\n",
              "      <td>NaN</td>\n",
              "      <td>2020-09-03 18:17:50.288923</td>\n",
              "      <td>False</td>\n",
              "      <td>30226</td>\n",
              "      <td>NaN</td>\n",
              "      <td>258778</td>\n",
              "      <td>Patient</td>\n",
              "      <td>PF2-D9C</td>\n",
              "      <td>NaN</td>\n",
              "      <td>health_machine</td>\n",
              "      <td>249294</td>\n",
              "      <td>dm_form_1060_1</td>\n",
              "      <td>130571</td>\n",
              "      <td>NaN</td>\n",
              "      <td>NaN</td>\n",
              "      <td>answered_correctly</td>\n",
              "      <td>4124</td>\n",
              "      <td>4124</td>\n",
              "      <td>dm_form_1060_1</td>\n",
              "      <td>dm_form_1060_1</td>\n",
              "      <td>answered_correctly</td>\n",
              "      <td>0</td>\n",
              "      <td>No</td>\n",
              "      <td>no</td>\n",
              "    </tr>\n",
              "  </tbody>\n",
              "</table>\n",
              "</div>"
            ],
            "text/plain": [
              "       id       form_code  ...               field_text field_value\n",
              "0  195792  dm_form_1060_1  ...                       No          no\n",
              "1  125192  dm_form_1060_1  ...  Only in some deliveries           1\n",
              "2  125192  dm_form_1060_1  ...                       No          no\n",
              "3  126365  dm_form_1060_1  ...                       No          no\n",
              "4  130571  dm_form_1060_1  ...                       No          no\n",
              "\n",
              "[5 rows x 29 columns]"
            ]
          },
          "metadata": {},
          "execution_count": 24
        }
      ]
    },
    {
      "cell_type": "code",
      "metadata": {
        "id": "VaqSgv_yucW_"
      },
      "source": [
        "# A lot of columns are not of much relevance\n",
        "# Let us filter the data to keep it concise.\n",
        "\n",
        "col_list = ['id', 'field_name', 'field_text', 'field_value']"
      ],
      "execution_count": 25,
      "outputs": []
    },
    {
      "cell_type": "code",
      "metadata": {
        "id": "x0MOcoG_ucga"
      },
      "source": [
        "# Filter the dataframe\n",
        "\n",
        "epidural_df = epidural_df[col_list]"
      ],
      "execution_count": 26,
      "outputs": []
    },
    {
      "cell_type": "code",
      "metadata": {
        "id": "16S9CkArucpP",
        "colab": {
          "base_uri": "https://localhost:8080/",
          "height": 514
        },
        "outputId": "39071a7b-9de0-40a2-9123-d2e02db011fc"
      },
      "source": [
        "epidural_df.head(15)"
      ],
      "execution_count": 27,
      "outputs": [
        {
          "output_type": "execute_result",
          "data": {
            "text/html": [
              "<div>\n",
              "<style scoped>\n",
              "    .dataframe tbody tr th:only-of-type {\n",
              "        vertical-align: middle;\n",
              "    }\n",
              "\n",
              "    .dataframe tbody tr th {\n",
              "        vertical-align: top;\n",
              "    }\n",
              "\n",
              "    .dataframe thead th {\n",
              "        text-align: right;\n",
              "    }\n",
              "</style>\n",
              "<table border=\"1\" class=\"dataframe\">\n",
              "  <thead>\n",
              "    <tr style=\"text-align: right;\">\n",
              "      <th></th>\n",
              "      <th>id</th>\n",
              "      <th>field_name</th>\n",
              "      <th>field_text</th>\n",
              "      <th>field_value</th>\n",
              "    </tr>\n",
              "  </thead>\n",
              "  <tbody>\n",
              "    <tr>\n",
              "      <th>0</th>\n",
              "      <td>195792</td>\n",
              "      <td>answered_correctly</td>\n",
              "      <td>No</td>\n",
              "      <td>no</td>\n",
              "    </tr>\n",
              "    <tr>\n",
              "      <th>1</th>\n",
              "      <td>125192</td>\n",
              "      <td>epidural</td>\n",
              "      <td>Only in some deliveries</td>\n",
              "      <td>1</td>\n",
              "    </tr>\n",
              "    <tr>\n",
              "      <th>2</th>\n",
              "      <td>125192</td>\n",
              "      <td>answered_correctly</td>\n",
              "      <td>No</td>\n",
              "      <td>no</td>\n",
              "    </tr>\n",
              "    <tr>\n",
              "      <th>3</th>\n",
              "      <td>126365</td>\n",
              "      <td>answered_correctly</td>\n",
              "      <td>No</td>\n",
              "      <td>no</td>\n",
              "    </tr>\n",
              "    <tr>\n",
              "      <th>4</th>\n",
              "      <td>130571</td>\n",
              "      <td>answered_correctly</td>\n",
              "      <td>No</td>\n",
              "      <td>no</td>\n",
              "    </tr>\n",
              "    <tr>\n",
              "      <th>5</th>\n",
              "      <td>131845</td>\n",
              "      <td>epidural</td>\n",
              "      <td>Only in some deliveries</td>\n",
              "      <td>1</td>\n",
              "    </tr>\n",
              "    <tr>\n",
              "      <th>6</th>\n",
              "      <td>131845</td>\n",
              "      <td>answered_correctly</td>\n",
              "      <td>No</td>\n",
              "      <td>no</td>\n",
              "    </tr>\n",
              "    <tr>\n",
              "      <th>7</th>\n",
              "      <td>136102</td>\n",
              "      <td>epidural</td>\n",
              "      <td>Only in some deliveries</td>\n",
              "      <td>1</td>\n",
              "    </tr>\n",
              "    <tr>\n",
              "      <th>8</th>\n",
              "      <td>136102</td>\n",
              "      <td>answered_correctly</td>\n",
              "      <td>No</td>\n",
              "      <td>no</td>\n",
              "    </tr>\n",
              "    <tr>\n",
              "      <th>9</th>\n",
              "      <td>137096</td>\n",
              "      <td>epidural</td>\n",
              "      <td>Yes in all deliveries</td>\n",
              "      <td>0</td>\n",
              "    </tr>\n",
              "    <tr>\n",
              "      <th>10</th>\n",
              "      <td>137096</td>\n",
              "      <td>answered_correctly</td>\n",
              "      <td>Yes</td>\n",
              "      <td>yes</td>\n",
              "    </tr>\n",
              "    <tr>\n",
              "      <th>11</th>\n",
              "      <td>137864</td>\n",
              "      <td>answered_correctly</td>\n",
              "      <td>No</td>\n",
              "      <td>no</td>\n",
              "    </tr>\n",
              "    <tr>\n",
              "      <th>12</th>\n",
              "      <td>113372</td>\n",
              "      <td>answered_correctly</td>\n",
              "      <td>No</td>\n",
              "      <td>no</td>\n",
              "    </tr>\n",
              "    <tr>\n",
              "      <th>13</th>\n",
              "      <td>122079</td>\n",
              "      <td>epidural</td>\n",
              "      <td>Only in some deliveries</td>\n",
              "      <td>1</td>\n",
              "    </tr>\n",
              "    <tr>\n",
              "      <th>14</th>\n",
              "      <td>122079</td>\n",
              "      <td>answered_correctly</td>\n",
              "      <td>No</td>\n",
              "      <td>no</td>\n",
              "    </tr>\n",
              "  </tbody>\n",
              "</table>\n",
              "</div>"
            ],
            "text/plain": [
              "        id          field_name               field_text field_value\n",
              "0   195792  answered_correctly                       No          no\n",
              "1   125192            epidural  Only in some deliveries           1\n",
              "2   125192  answered_correctly                       No          no\n",
              "3   126365  answered_correctly                       No          no\n",
              "4   130571  answered_correctly                       No          no\n",
              "5   131845            epidural  Only in some deliveries           1\n",
              "6   131845  answered_correctly                       No          no\n",
              "7   136102            epidural  Only in some deliveries           1\n",
              "8   136102  answered_correctly                       No          no\n",
              "9   137096            epidural    Yes in all deliveries           0\n",
              "10  137096  answered_correctly                      Yes         yes\n",
              "11  137864  answered_correctly                       No          no\n",
              "12  113372  answered_correctly                       No          no\n",
              "13  122079            epidural  Only in some deliveries           1\n",
              "14  122079  answered_correctly                       No          no"
            ]
          },
          "metadata": {},
          "execution_count": 27
        }
      ]
    },
    {
      "cell_type": "code",
      "metadata": {
        "colab": {
          "base_uri": "https://localhost:8080/"
        },
        "id": "3sxC3QZrdQKw",
        "outputId": "3be6e3e2-6da2-4fc7-c0c1-8c9a81487ec5"
      },
      "source": [
        "# Null value check\n",
        "\n",
        "epidural_df.isnull().sum()"
      ],
      "execution_count": 28,
      "outputs": [
        {
          "output_type": "execute_result",
          "data": {
            "text/plain": [
              "id             0\n",
              "field_name     0\n",
              "field_text     0\n",
              "field_value    0\n",
              "dtype: int64"
            ]
          },
          "metadata": {},
          "execution_count": 28
        }
      ]
    },
    {
      "cell_type": "code",
      "metadata": {
        "colab": {
          "base_uri": "https://localhost:8080/"
        },
        "id": "qa1i6GdHdQH7",
        "outputId": "71730665-e584-4276-974b-8c2fc083207d"
      },
      "source": [
        "epidural_df.field_name.unique()"
      ],
      "execution_count": 29,
      "outputs": [
        {
          "output_type": "execute_result",
          "data": {
            "text/plain": [
              "array(['answered_correctly', 'epidural'], dtype=object)"
            ]
          },
          "metadata": {},
          "execution_count": 29
        }
      ]
    },
    {
      "cell_type": "code",
      "metadata": {
        "colab": {
          "base_uri": "https://localhost:8080/"
        },
        "id": "rlm57GhTdQFO",
        "outputId": "8b537ccd-cd52-40cb-c72c-e2955acb9a0b"
      },
      "source": [
        "print(epidural_df.field_text.unique())\n",
        "print(epidural_df.field_value.unique())"
      ],
      "execution_count": 30,
      "outputs": [
        {
          "output_type": "stream",
          "name": "stdout",
          "text": [
            "['No' 'Only in some deliveries' 'Yes in all deliveries' 'Yes']\n",
            "['no' '1' '0' 'yes']\n"
          ]
        }
      ]
    },
    {
      "cell_type": "code",
      "metadata": {
        "id": "Y8TmcCNodQCk"
      },
      "source": [
        "# Manual Encoding for the values in column 'field_value'\n",
        "\n",
        "epidural_df.field_value = epidural_df.field_value.replace({\"no\": 2, \"yes\": 3})"
      ],
      "execution_count": 31,
      "outputs": []
    },
    {
      "cell_type": "code",
      "metadata": {
        "id": "qIpiOUJWdQAB"
      },
      "source": [
        "#Using one hot encoding to encode categorical field 'field_text'\n",
        "\n",
        "ohc_data = pd.get_dummies(epidural_df, columns=['field_text'])"
      ],
      "execution_count": 33,
      "outputs": []
    },
    {
      "cell_type": "code",
      "metadata": {
        "colab": {
          "base_uri": "https://localhost:8080/",
          "height": 204
        },
        "id": "DGOtX-onpPLm",
        "outputId": "f20b7dd6-47e9-4005-80f6-77a6c7cb48b6"
      },
      "source": [
        "ohc_data.head()"
      ],
      "execution_count": 34,
      "outputs": [
        {
          "output_type": "execute_result",
          "data": {
            "text/html": [
              "<div>\n",
              "<style scoped>\n",
              "    .dataframe tbody tr th:only-of-type {\n",
              "        vertical-align: middle;\n",
              "    }\n",
              "\n",
              "    .dataframe tbody tr th {\n",
              "        vertical-align: top;\n",
              "    }\n",
              "\n",
              "    .dataframe thead th {\n",
              "        text-align: right;\n",
              "    }\n",
              "</style>\n",
              "<table border=\"1\" class=\"dataframe\">\n",
              "  <thead>\n",
              "    <tr style=\"text-align: right;\">\n",
              "      <th></th>\n",
              "      <th>id</th>\n",
              "      <th>field_name</th>\n",
              "      <th>field_value</th>\n",
              "      <th>field_text_No</th>\n",
              "      <th>field_text_Only in some deliveries</th>\n",
              "      <th>field_text_Yes</th>\n",
              "      <th>field_text_Yes in all deliveries</th>\n",
              "    </tr>\n",
              "  </thead>\n",
              "  <tbody>\n",
              "    <tr>\n",
              "      <th>0</th>\n",
              "      <td>195792</td>\n",
              "      <td>answered_correctly</td>\n",
              "      <td>2</td>\n",
              "      <td>1</td>\n",
              "      <td>0</td>\n",
              "      <td>0</td>\n",
              "      <td>0</td>\n",
              "    </tr>\n",
              "    <tr>\n",
              "      <th>1</th>\n",
              "      <td>125192</td>\n",
              "      <td>epidural</td>\n",
              "      <td>1</td>\n",
              "      <td>0</td>\n",
              "      <td>1</td>\n",
              "      <td>0</td>\n",
              "      <td>0</td>\n",
              "    </tr>\n",
              "    <tr>\n",
              "      <th>2</th>\n",
              "      <td>125192</td>\n",
              "      <td>answered_correctly</td>\n",
              "      <td>2</td>\n",
              "      <td>1</td>\n",
              "      <td>0</td>\n",
              "      <td>0</td>\n",
              "      <td>0</td>\n",
              "    </tr>\n",
              "    <tr>\n",
              "      <th>3</th>\n",
              "      <td>126365</td>\n",
              "      <td>answered_correctly</td>\n",
              "      <td>2</td>\n",
              "      <td>1</td>\n",
              "      <td>0</td>\n",
              "      <td>0</td>\n",
              "      <td>0</td>\n",
              "    </tr>\n",
              "    <tr>\n",
              "      <th>4</th>\n",
              "      <td>130571</td>\n",
              "      <td>answered_correctly</td>\n",
              "      <td>2</td>\n",
              "      <td>1</td>\n",
              "      <td>0</td>\n",
              "      <td>0</td>\n",
              "      <td>0</td>\n",
              "    </tr>\n",
              "  </tbody>\n",
              "</table>\n",
              "</div>"
            ],
            "text/plain": [
              "       id          field_name  ... field_text_Yes  field_text_Yes in all deliveries\n",
              "0  195792  answered_correctly  ...              0                                 0\n",
              "1  125192            epidural  ...              0                                 0\n",
              "2  125192  answered_correctly  ...              0                                 0\n",
              "3  126365  answered_correctly  ...              0                                 0\n",
              "4  130571  answered_correctly  ...              0                                 0\n",
              "\n",
              "[5 rows x 7 columns]"
            ]
          },
          "metadata": {},
          "execution_count": 34
        }
      ]
    },
    {
      "cell_type": "code",
      "metadata": {
        "id": "jejzrt74dP88"
      },
      "source": [
        "ohc_data.rename(columns={'field_text_No':'Response_No', 'field_text_Only in some deliveries':'Response_YesForSomeDeliveries', 'field_text_Yes':'Response_Yes','field_text_Yes in all deliveries':'Reponse_YesForAllDeliveries'}, inplace=True)"
      ],
      "execution_count": 35,
      "outputs": []
    },
    {
      "cell_type": "code",
      "metadata": {
        "colab": {
          "base_uri": "https://localhost:8080/",
          "height": 204
        },
        "id": "Jw3A4PIoq_ho",
        "outputId": "9c65d7a6-cff5-4592-e8f4-682765d10aa5"
      },
      "source": [
        "ohc_data.head()"
      ],
      "execution_count": 36,
      "outputs": [
        {
          "output_type": "execute_result",
          "data": {
            "text/html": [
              "<div>\n",
              "<style scoped>\n",
              "    .dataframe tbody tr th:only-of-type {\n",
              "        vertical-align: middle;\n",
              "    }\n",
              "\n",
              "    .dataframe tbody tr th {\n",
              "        vertical-align: top;\n",
              "    }\n",
              "\n",
              "    .dataframe thead th {\n",
              "        text-align: right;\n",
              "    }\n",
              "</style>\n",
              "<table border=\"1\" class=\"dataframe\">\n",
              "  <thead>\n",
              "    <tr style=\"text-align: right;\">\n",
              "      <th></th>\n",
              "      <th>id</th>\n",
              "      <th>field_name</th>\n",
              "      <th>field_value</th>\n",
              "      <th>Response_No</th>\n",
              "      <th>Response_YesForSomeDeliveries</th>\n",
              "      <th>Response_Yes</th>\n",
              "      <th>Reponse_YesForAllDeliveries</th>\n",
              "    </tr>\n",
              "  </thead>\n",
              "  <tbody>\n",
              "    <tr>\n",
              "      <th>0</th>\n",
              "      <td>195792</td>\n",
              "      <td>answered_correctly</td>\n",
              "      <td>2</td>\n",
              "      <td>1</td>\n",
              "      <td>0</td>\n",
              "      <td>0</td>\n",
              "      <td>0</td>\n",
              "    </tr>\n",
              "    <tr>\n",
              "      <th>1</th>\n",
              "      <td>125192</td>\n",
              "      <td>epidural</td>\n",
              "      <td>1</td>\n",
              "      <td>0</td>\n",
              "      <td>1</td>\n",
              "      <td>0</td>\n",
              "      <td>0</td>\n",
              "    </tr>\n",
              "    <tr>\n",
              "      <th>2</th>\n",
              "      <td>125192</td>\n",
              "      <td>answered_correctly</td>\n",
              "      <td>2</td>\n",
              "      <td>1</td>\n",
              "      <td>0</td>\n",
              "      <td>0</td>\n",
              "      <td>0</td>\n",
              "    </tr>\n",
              "    <tr>\n",
              "      <th>3</th>\n",
              "      <td>126365</td>\n",
              "      <td>answered_correctly</td>\n",
              "      <td>2</td>\n",
              "      <td>1</td>\n",
              "      <td>0</td>\n",
              "      <td>0</td>\n",
              "      <td>0</td>\n",
              "    </tr>\n",
              "    <tr>\n",
              "      <th>4</th>\n",
              "      <td>130571</td>\n",
              "      <td>answered_correctly</td>\n",
              "      <td>2</td>\n",
              "      <td>1</td>\n",
              "      <td>0</td>\n",
              "      <td>0</td>\n",
              "      <td>0</td>\n",
              "    </tr>\n",
              "  </tbody>\n",
              "</table>\n",
              "</div>"
            ],
            "text/plain": [
              "       id          field_name  ... Response_Yes  Reponse_YesForAllDeliveries\n",
              "0  195792  answered_correctly  ...            0                            0\n",
              "1  125192            epidural  ...            0                            0\n",
              "2  125192  answered_correctly  ...            0                            0\n",
              "3  126365  answered_correctly  ...            0                            0\n",
              "4  130571  answered_correctly  ...            0                            0\n",
              "\n",
              "[5 rows x 7 columns]"
            ]
          },
          "metadata": {},
          "execution_count": 36
        }
      ]
    },
    {
      "cell_type": "code",
      "metadata": {
        "colab": {
          "base_uri": "https://localhost:8080/",
          "height": 419
        },
        "id": "KO9xtcZIdP6D",
        "outputId": "b53f748d-c60c-4896-9910-38c7644da1be"
      },
      "source": [
        "# Drop irrelevant columns\n",
        "\n",
        "ohc_data.drop(['id', 'field_value','field_name'], axis=1)"
      ],
      "execution_count": 37,
      "outputs": [
        {
          "output_type": "execute_result",
          "data": {
            "text/html": [
              "<div>\n",
              "<style scoped>\n",
              "    .dataframe tbody tr th:only-of-type {\n",
              "        vertical-align: middle;\n",
              "    }\n",
              "\n",
              "    .dataframe tbody tr th {\n",
              "        vertical-align: top;\n",
              "    }\n",
              "\n",
              "    .dataframe thead th {\n",
              "        text-align: right;\n",
              "    }\n",
              "</style>\n",
              "<table border=\"1\" class=\"dataframe\">\n",
              "  <thead>\n",
              "    <tr style=\"text-align: right;\">\n",
              "      <th></th>\n",
              "      <th>Response_No</th>\n",
              "      <th>Response_YesForSomeDeliveries</th>\n",
              "      <th>Response_Yes</th>\n",
              "      <th>Reponse_YesForAllDeliveries</th>\n",
              "    </tr>\n",
              "  </thead>\n",
              "  <tbody>\n",
              "    <tr>\n",
              "      <th>0</th>\n",
              "      <td>1</td>\n",
              "      <td>0</td>\n",
              "      <td>0</td>\n",
              "      <td>0</td>\n",
              "    </tr>\n",
              "    <tr>\n",
              "      <th>1</th>\n",
              "      <td>0</td>\n",
              "      <td>1</td>\n",
              "      <td>0</td>\n",
              "      <td>0</td>\n",
              "    </tr>\n",
              "    <tr>\n",
              "      <th>2</th>\n",
              "      <td>1</td>\n",
              "      <td>0</td>\n",
              "      <td>0</td>\n",
              "      <td>0</td>\n",
              "    </tr>\n",
              "    <tr>\n",
              "      <th>3</th>\n",
              "      <td>1</td>\n",
              "      <td>0</td>\n",
              "      <td>0</td>\n",
              "      <td>0</td>\n",
              "    </tr>\n",
              "    <tr>\n",
              "      <th>4</th>\n",
              "      <td>1</td>\n",
              "      <td>0</td>\n",
              "      <td>0</td>\n",
              "      <td>0</td>\n",
              "    </tr>\n",
              "    <tr>\n",
              "      <th>...</th>\n",
              "      <td>...</td>\n",
              "      <td>...</td>\n",
              "      <td>...</td>\n",
              "      <td>...</td>\n",
              "    </tr>\n",
              "    <tr>\n",
              "      <th>371</th>\n",
              "      <td>1</td>\n",
              "      <td>0</td>\n",
              "      <td>0</td>\n",
              "      <td>0</td>\n",
              "    </tr>\n",
              "    <tr>\n",
              "      <th>372</th>\n",
              "      <td>0</td>\n",
              "      <td>1</td>\n",
              "      <td>0</td>\n",
              "      <td>0</td>\n",
              "    </tr>\n",
              "    <tr>\n",
              "      <th>373</th>\n",
              "      <td>1</td>\n",
              "      <td>0</td>\n",
              "      <td>0</td>\n",
              "      <td>0</td>\n",
              "    </tr>\n",
              "    <tr>\n",
              "      <th>374</th>\n",
              "      <td>1</td>\n",
              "      <td>0</td>\n",
              "      <td>0</td>\n",
              "      <td>0</td>\n",
              "    </tr>\n",
              "    <tr>\n",
              "      <th>375</th>\n",
              "      <td>1</td>\n",
              "      <td>0</td>\n",
              "      <td>0</td>\n",
              "      <td>0</td>\n",
              "    </tr>\n",
              "  </tbody>\n",
              "</table>\n",
              "<p>376 rows × 4 columns</p>\n",
              "</div>"
            ],
            "text/plain": [
              "     Response_No  ...  Reponse_YesForAllDeliveries\n",
              "0              1  ...                            0\n",
              "1              0  ...                            0\n",
              "2              1  ...                            0\n",
              "3              1  ...                            0\n",
              "4              1  ...                            0\n",
              "..           ...  ...                          ...\n",
              "371            1  ...                            0\n",
              "372            0  ...                            0\n",
              "373            1  ...                            0\n",
              "374            1  ...                            0\n",
              "375            1  ...                            0\n",
              "\n",
              "[376 rows x 4 columns]"
            ]
          },
          "metadata": {},
          "execution_count": 37
        }
      ]
    },
    {
      "cell_type": "code",
      "metadata": {
        "id": "C50mv04ZdP0i"
      },
      "source": [
        "# Merge te encoded columns with the original dataframe\n",
        "\n",
        "master_epidural_df = epidural_df.merge(ohc_data, how='left')"
      ],
      "execution_count": 38,
      "outputs": []
    },
    {
      "cell_type": "code",
      "metadata": {
        "colab": {
          "base_uri": "https://localhost:8080/",
          "height": 204
        },
        "id": "K_7oXztmdPxh",
        "outputId": "d92c515b-7e70-4f1b-cc9f-e647eb9bfa09"
      },
      "source": [
        "master_epidural_df.head()"
      ],
      "execution_count": 39,
      "outputs": [
        {
          "output_type": "execute_result",
          "data": {
            "text/html": [
              "<div>\n",
              "<style scoped>\n",
              "    .dataframe tbody tr th:only-of-type {\n",
              "        vertical-align: middle;\n",
              "    }\n",
              "\n",
              "    .dataframe tbody tr th {\n",
              "        vertical-align: top;\n",
              "    }\n",
              "\n",
              "    .dataframe thead th {\n",
              "        text-align: right;\n",
              "    }\n",
              "</style>\n",
              "<table border=\"1\" class=\"dataframe\">\n",
              "  <thead>\n",
              "    <tr style=\"text-align: right;\">\n",
              "      <th></th>\n",
              "      <th>id</th>\n",
              "      <th>field_name</th>\n",
              "      <th>field_text</th>\n",
              "      <th>field_value</th>\n",
              "      <th>Response_No</th>\n",
              "      <th>Response_YesForSomeDeliveries</th>\n",
              "      <th>Response_Yes</th>\n",
              "      <th>Reponse_YesForAllDeliveries</th>\n",
              "    </tr>\n",
              "  </thead>\n",
              "  <tbody>\n",
              "    <tr>\n",
              "      <th>0</th>\n",
              "      <td>195792</td>\n",
              "      <td>answered_correctly</td>\n",
              "      <td>No</td>\n",
              "      <td>2</td>\n",
              "      <td>1</td>\n",
              "      <td>0</td>\n",
              "      <td>0</td>\n",
              "      <td>0</td>\n",
              "    </tr>\n",
              "    <tr>\n",
              "      <th>1</th>\n",
              "      <td>125192</td>\n",
              "      <td>epidural</td>\n",
              "      <td>Only in some deliveries</td>\n",
              "      <td>1</td>\n",
              "      <td>0</td>\n",
              "      <td>1</td>\n",
              "      <td>0</td>\n",
              "      <td>0</td>\n",
              "    </tr>\n",
              "    <tr>\n",
              "      <th>2</th>\n",
              "      <td>125192</td>\n",
              "      <td>answered_correctly</td>\n",
              "      <td>No</td>\n",
              "      <td>2</td>\n",
              "      <td>1</td>\n",
              "      <td>0</td>\n",
              "      <td>0</td>\n",
              "      <td>0</td>\n",
              "    </tr>\n",
              "    <tr>\n",
              "      <th>3</th>\n",
              "      <td>126365</td>\n",
              "      <td>answered_correctly</td>\n",
              "      <td>No</td>\n",
              "      <td>2</td>\n",
              "      <td>1</td>\n",
              "      <td>0</td>\n",
              "      <td>0</td>\n",
              "      <td>0</td>\n",
              "    </tr>\n",
              "    <tr>\n",
              "      <th>4</th>\n",
              "      <td>130571</td>\n",
              "      <td>answered_correctly</td>\n",
              "      <td>No</td>\n",
              "      <td>2</td>\n",
              "      <td>1</td>\n",
              "      <td>0</td>\n",
              "      <td>0</td>\n",
              "      <td>0</td>\n",
              "    </tr>\n",
              "  </tbody>\n",
              "</table>\n",
              "</div>"
            ],
            "text/plain": [
              "       id          field_name  ... Response_Yes Reponse_YesForAllDeliveries\n",
              "0  195792  answered_correctly  ...            0                           0\n",
              "1  125192            epidural  ...            0                           0\n",
              "2  125192  answered_correctly  ...            0                           0\n",
              "3  126365  answered_correctly  ...            0                           0\n",
              "4  130571  answered_correctly  ...            0                           0\n",
              "\n",
              "[5 rows x 8 columns]"
            ]
          },
          "metadata": {},
          "execution_count": 39
        }
      ]
    },
    {
      "cell_type": "code",
      "metadata": {
        "id": "0Lgxzf0WdPux"
      },
      "source": [
        "# We can now drop 'field_text' as it is encoded.\n",
        "# We also no longer require 'field_value' and 'field_name'\n",
        "\n",
        "master_epidural_df = master_epidural_df.drop(['field_text','field_name', 'field_value'], axis=1)"
      ],
      "execution_count": 40,
      "outputs": []
    },
    {
      "cell_type": "code",
      "metadata": {
        "id": "qt4a9MELvhke"
      },
      "source": [
        "master_epidural_df = master_epidural_df.set_index('id')"
      ],
      "execution_count": 41,
      "outputs": []
    },
    {
      "cell_type": "code",
      "metadata": {
        "colab": {
          "base_uri": "https://localhost:8080/",
          "height": 235
        },
        "id": "pXaOnOxVt60T",
        "outputId": "68bc3d00-fe05-4306-fd33-c999269d3e94"
      },
      "source": [
        "master_epidural_df.head()"
      ],
      "execution_count": 42,
      "outputs": [
        {
          "output_type": "execute_result",
          "data": {
            "text/html": [
              "<div>\n",
              "<style scoped>\n",
              "    .dataframe tbody tr th:only-of-type {\n",
              "        vertical-align: middle;\n",
              "    }\n",
              "\n",
              "    .dataframe tbody tr th {\n",
              "        vertical-align: top;\n",
              "    }\n",
              "\n",
              "    .dataframe thead th {\n",
              "        text-align: right;\n",
              "    }\n",
              "</style>\n",
              "<table border=\"1\" class=\"dataframe\">\n",
              "  <thead>\n",
              "    <tr style=\"text-align: right;\">\n",
              "      <th></th>\n",
              "      <th>Response_No</th>\n",
              "      <th>Response_YesForSomeDeliveries</th>\n",
              "      <th>Response_Yes</th>\n",
              "      <th>Reponse_YesForAllDeliveries</th>\n",
              "    </tr>\n",
              "    <tr>\n",
              "      <th>id</th>\n",
              "      <th></th>\n",
              "      <th></th>\n",
              "      <th></th>\n",
              "      <th></th>\n",
              "    </tr>\n",
              "  </thead>\n",
              "  <tbody>\n",
              "    <tr>\n",
              "      <th>195792</th>\n",
              "      <td>1</td>\n",
              "      <td>0</td>\n",
              "      <td>0</td>\n",
              "      <td>0</td>\n",
              "    </tr>\n",
              "    <tr>\n",
              "      <th>125192</th>\n",
              "      <td>0</td>\n",
              "      <td>1</td>\n",
              "      <td>0</td>\n",
              "      <td>0</td>\n",
              "    </tr>\n",
              "    <tr>\n",
              "      <th>125192</th>\n",
              "      <td>1</td>\n",
              "      <td>0</td>\n",
              "      <td>0</td>\n",
              "      <td>0</td>\n",
              "    </tr>\n",
              "    <tr>\n",
              "      <th>126365</th>\n",
              "      <td>1</td>\n",
              "      <td>0</td>\n",
              "      <td>0</td>\n",
              "      <td>0</td>\n",
              "    </tr>\n",
              "    <tr>\n",
              "      <th>130571</th>\n",
              "      <td>1</td>\n",
              "      <td>0</td>\n",
              "      <td>0</td>\n",
              "      <td>0</td>\n",
              "    </tr>\n",
              "  </tbody>\n",
              "</table>\n",
              "</div>"
            ],
            "text/plain": [
              "        Response_No  ...  Reponse_YesForAllDeliveries\n",
              "id                   ...                             \n",
              "195792            1  ...                            0\n",
              "125192            0  ...                            0\n",
              "125192            1  ...                            0\n",
              "126365            1  ...                            0\n",
              "130571            1  ...                            0\n",
              "\n",
              "[5 rows x 4 columns]"
            ]
          },
          "metadata": {},
          "execution_count": 42
        }
      ]
    },
    {
      "cell_type": "markdown",
      "metadata": {
        "id": "Wy3k9vQauaYF"
      },
      "source": [
        "#### Using K-mode clustering for customer segmentation"
      ]
    },
    {
      "cell_type": "code",
      "metadata": {
        "colab": {
          "base_uri": "https://localhost:8080/"
        },
        "id": "3aqltxyGdPmY",
        "outputId": "cf1738eb-63f0-48c9-f00f-fdeb1f17afe3"
      },
      "source": [
        "# Now that we have encoded the data, we can proceed with the clustering\n",
        "# We will first use the Elbow curve method to find optimal K\n",
        "\n",
        "cost = []\n",
        "\n",
        "K = range(1,5)\n",
        "\n",
        "for num_clusters in list(K):\n",
        "  kmode = KModes(n_clusters=num_clusters, init = \"random\", n_init=5, verbose=1)\n",
        "  kmode.fit_predict(master_epidural_df)\n",
        "  cost.append(kmode.cost_)"
      ],
      "execution_count": 43,
      "outputs": [
        {
          "output_type": "stream",
          "name": "stdout",
          "text": [
            "Init: initializing centroids\n",
            "Init: initializing clusters\n",
            "Starting iterations...\n",
            "Run 1, iteration: 1/100, moves: 0, cost: 320.0\n",
            "Init: initializing centroids\n",
            "Init: initializing clusters\n",
            "Starting iterations...\n",
            "Run 2, iteration: 1/100, moves: 0, cost: 320.0\n",
            "Init: initializing centroids\n",
            "Init: initializing clusters\n",
            "Starting iterations...\n",
            "Run 3, iteration: 1/100, moves: 0, cost: 320.0\n",
            "Init: initializing centroids\n",
            "Init: initializing clusters\n",
            "Starting iterations...\n",
            "Run 4, iteration: 1/100, moves: 0, cost: 320.0\n",
            "Init: initializing centroids\n",
            "Init: initializing clusters\n",
            "Starting iterations...\n",
            "Run 5, iteration: 1/100, moves: 0, cost: 320.0\n",
            "Best run was number 1\n",
            "Init: initializing centroids\n",
            "Init: initializing clusters\n",
            "Starting iterations...\n",
            "Run 1, iteration: 1/100, moves: 0, cost: 136.0\n",
            "Init: initializing centroids\n",
            "Init: initializing clusters\n",
            "Starting iterations...\n",
            "Run 2, iteration: 1/100, moves: 0, cost: 320.0\n",
            "Init: initializing centroids\n",
            "Init: initializing clusters\n",
            "Starting iterations...\n",
            "Run 3, iteration: 1/100, moves: 92, cost: 136.0\n",
            "Run 3, iteration: 2/100, moves: 0, cost: 136.0\n",
            "Init: initializing centroids\n",
            "Init: initializing clusters\n",
            "Starting iterations...\n",
            "Run 4, iteration: 1/100, moves: 92, cost: 136.0\n",
            "Init: initializing centroids\n",
            "Init: initializing clusters\n",
            "Starting iterations...\n",
            "Run 5, iteration: 1/100, moves: 0, cost: 136.0\n",
            "Best run was number 1\n",
            "Init: initializing centroids\n",
            "Init: initializing clusters\n",
            "Starting iterations...\n",
            "Run 1, iteration: 1/100, moves: 34, cost: 68.0\n",
            "Init: initializing centroids\n",
            "Init: initializing clusters\n",
            "Starting iterations...\n",
            "Run 2, iteration: 1/100, moves: 0, cost: 136.0\n",
            "Init: initializing centroids\n",
            "Init: initializing clusters\n",
            "Starting iterations...\n",
            "Run 3, iteration: 1/100, moves: 0, cost: 184.0\n",
            "Init: initializing centroids\n",
            "Init: initializing clusters\n",
            "Starting iterations...\n",
            "Run 4, iteration: 1/100, moves: 92, cost: 136.0\n",
            "Run 4, iteration: 2/100, moves: 0, cost: 136.0\n",
            "Init: initializing centroids\n",
            "Init: initializing clusters\n",
            "Starting iterations...\n",
            "Run 5, iteration: 1/100, moves: 0, cost: 136.0\n",
            "Best run was number 1\n",
            "Init: initializing centroids\n",
            "Init: initializing clusters\n",
            "Starting iterations...\n",
            "Run 1, iteration: 1/0, moves: 0, cost: 0.0\n"
          ]
        }
      ]
    },
    {
      "cell_type": "code",
      "metadata": {
        "colab": {
          "base_uri": "https://localhost:8080/",
          "height": 295
        },
        "id": "5J6LTTJ9dPjR",
        "outputId": "771342ca-5635-40fc-bb6e-d0ba9405564a"
      },
      "source": [
        "# Plotting the curve\n",
        "\n",
        "plt.plot(K, cost, 'bx-')\n",
        "plt.xlabel('No. of Clusters')\n",
        "plt.ylabel('Cost')\n",
        "plt.title('Elbow Curve for Optimal K')\n",
        "plt.show()"
      ],
      "execution_count": 44,
      "outputs": [
        {
          "output_type": "display_data",
          "data": {
            "image/png": "[encoded data removed]",
            "text/plain": [
              "<Figure size 432x288 with 1 Axes>"
            ]
          },
          "metadata": {
            "needs_background": "light"
          }
        }
      ]
    },
    {
      "cell_type": "code",
      "metadata": {
        "colab": {
          "base_uri": "https://localhost:8080/"
        },
        "id": "0FDXW3WSdPgn",
        "outputId": "54115a4e-0d50-4997-83a7-91fa3a0a58bd"
      },
      "source": [
        "#Building the model with 2 clusters as we can see a sharp bend in the curve\n",
        "# at cluster value 2.0\n",
        "\n",
        "kmode = KModes(n_clusters=2, init=\"random\",n_init=5, verbose=1)\n",
        "clusters = kmode.fit_predict(master_epidural_df)"
      ],
      "execution_count": 45,
      "outputs": [
        {
          "output_type": "stream",
          "name": "stdout",
          "text": [
            "Init: initializing centroids\n",
            "Init: initializing clusters\n",
            "Starting iterations...\n",
            "Run 1, iteration: 1/100, moves: 34, cost: 252.0\n",
            "Init: initializing centroids\n",
            "Init: initializing clusters\n",
            "Starting iterations...\n",
            "Run 2, iteration: 1/100, moves: 0, cost: 252.0\n",
            "Init: initializing centroids\n",
            "Init: initializing clusters\n",
            "Starting iterations...\n",
            "Run 3, iteration: 1/100, moves: 34, cost: 252.0\n",
            "Run 3, iteration: 2/100, moves: 0, cost: 252.0\n",
            "Init: initializing centroids\n",
            "Init: initializing clusters\n",
            "Starting iterations...\n",
            "Run 4, iteration: 1/100, moves: 0, cost: 320.0\n",
            "Init: initializing centroids\n",
            "Init: initializing clusters\n",
            "Starting iterations...\n",
            "Run 5, iteration: 1/100, moves: 0, cost: 136.0\n",
            "Best run was number 5\n"
          ]
        }
      ]
    },
    {
      "cell_type": "code",
      "metadata": {
        "colab": {
          "base_uri": "https://localhost:8080/"
        },
        "id": "klB3BjQWdPdp",
        "outputId": "1d59982c-452f-4e41-d2a1-ee5cf19b89eb"
      },
      "source": [
        "clusters"
      ],
      "execution_count": 46,
      "outputs": [
        {
          "output_type": "execute_result",
          "data": {
            "text/plain": [
              "array([1, 0, 1, 1, 1, 0, 1, 0, 1, 0, 0, 1, 1, 0, 1, 1, 0, 1, 0, 1, 1, 0,\n",
              "       1, 1, 1, 1, 0, 1, 1, 0, 0, 0, 0, 1, 1, 1, 0, 1, 0, 1, 0, 1, 0, 1,\n",
              "       0, 1, 1, 1, 0, 0, 0, 1, 0, 1, 1, 1, 0, 0, 1, 1, 1, 0, 1, 1, 1, 0,\n",
              "       1, 1, 0, 1, 1, 0, 0, 0, 0, 0, 1, 1, 0, 1, 0, 0, 1, 0, 0, 1, 1, 1,\n",
              "       0, 1, 0, 0, 0, 0, 0, 1, 0, 0, 1, 1, 0, 1, 0, 1, 1, 0, 1, 1, 1, 0,\n",
              "       1, 1, 1, 0, 1, 0, 1, 0, 1, 1, 0, 1, 1, 1, 1, 0, 1, 0, 1, 1, 0, 1,\n",
              "       1, 0, 1, 1, 1, 0, 0, 1, 0, 1, 1, 0, 0, 1, 0, 1, 0, 1, 0, 0, 0, 0,\n",
              "       0, 1, 0, 1, 1, 1, 1, 0, 0, 0, 0, 1, 1, 0, 1, 0, 1, 0, 1, 0, 1, 1,\n",
              "       1, 1, 0, 1, 1, 0, 0, 1, 1, 1, 1, 0, 0, 1, 0, 1, 1, 0, 1, 0, 1, 1,\n",
              "       0, 1, 0, 1, 1, 0, 1, 0, 1, 1, 1, 0, 1, 1, 1, 0, 1, 1, 1, 0, 1, 0,\n",
              "       1, 0, 0, 1, 0, 1, 1, 1, 0, 0, 0, 1, 1, 1, 1, 1, 0, 1, 0, 1, 0, 1,\n",
              "       1, 1, 0, 1, 0, 0, 0, 1, 1, 0, 1, 1, 0, 1, 0, 1, 1, 0, 0, 1, 1, 0,\n",
              "       0, 1, 1, 1, 0, 1, 0, 1, 0, 0, 0, 1, 1, 0, 1, 0, 1, 0, 1, 1, 1, 0,\n",
              "       1, 1, 0, 1, 0, 0, 0, 1, 0, 1, 1, 1, 1, 1, 0, 1, 1, 0, 1, 1, 0, 1,\n",
              "       0, 0, 0, 1, 1, 1, 0, 1, 1, 1, 1, 1, 1, 1, 0, 1, 1, 1, 1, 1, 1, 0,\n",
              "       1, 0, 0, 1, 1, 1, 0, 1, 0, 0, 0, 1, 1, 0, 1, 0, 1, 1, 1, 0, 0, 0,\n",
              "       1, 1, 1, 0, 0, 1, 0, 1, 0, 0, 0, 0, 1, 0, 1, 1, 1, 0, 0, 1, 0, 1,\n",
              "       1, 1], dtype=uint16)"
            ]
          },
          "metadata": {},
          "execution_count": 46
        }
      ]
    },
    {
      "cell_type": "code",
      "metadata": {
        "id": "tVANoFZtdPan"
      },
      "source": [
        "# Append the predicted clusters with the dataframe\n",
        "\n",
        "master_epidural_df.insert(4, \"Predicted_Cluster\", clusters, True)"
      ],
      "execution_count": 47,
      "outputs": []
    },
    {
      "cell_type": "code",
      "metadata": {
        "colab": {
          "base_uri": "https://localhost:8080/",
          "height": 545
        },
        "id": "U_jKIYJ2dPRD",
        "outputId": "cd3af1d6-4824-4d30-dcb1-5d3e67e65e6e"
      },
      "source": [
        "master_epidural_df.head(15)"
      ],
      "execution_count": 50,
      "outputs": [
        {
          "output_type": "execute_result",
          "data": {
            "text/html": [
              "<div>\n",
              "<style scoped>\n",
              "    .dataframe tbody tr th:only-of-type {\n",
              "        vertical-align: middle;\n",
              "    }\n",
              "\n",
              "    .dataframe tbody tr th {\n",
              "        vertical-align: top;\n",
              "    }\n",
              "\n",
              "    .dataframe thead th {\n",
              "        text-align: right;\n",
              "    }\n",
              "</style>\n",
              "<table border=\"1\" class=\"dataframe\">\n",
              "  <thead>\n",
              "    <tr style=\"text-align: right;\">\n",
              "      <th></th>\n",
              "      <th>Response_No</th>\n",
              "      <th>Response_YesForSomeDeliveries</th>\n",
              "      <th>Response_Yes</th>\n",
              "      <th>Reponse_YesForAllDeliveries</th>\n",
              "      <th>Predicted_Cluster</th>\n",
              "    </tr>\n",
              "    <tr>\n",
              "      <th>id</th>\n",
              "      <th></th>\n",
              "      <th></th>\n",
              "      <th></th>\n",
              "      <th></th>\n",
              "      <th></th>\n",
              "    </tr>\n",
              "  </thead>\n",
              "  <tbody>\n",
              "    <tr>\n",
              "      <th>195792</th>\n",
              "      <td>1</td>\n",
              "      <td>0</td>\n",
              "      <td>0</td>\n",
              "      <td>0</td>\n",
              "      <td>1</td>\n",
              "    </tr>\n",
              "    <tr>\n",
              "      <th>125192</th>\n",
              "      <td>0</td>\n",
              "      <td>1</td>\n",
              "      <td>0</td>\n",
              "      <td>0</td>\n",
              "      <td>0</td>\n",
              "    </tr>\n",
              "    <tr>\n",
              "      <th>125192</th>\n",
              "      <td>1</td>\n",
              "      <td>0</td>\n",
              "      <td>0</td>\n",
              "      <td>0</td>\n",
              "      <td>1</td>\n",
              "    </tr>\n",
              "    <tr>\n",
              "      <th>126365</th>\n",
              "      <td>1</td>\n",
              "      <td>0</td>\n",
              "      <td>0</td>\n",
              "      <td>0</td>\n",
              "      <td>1</td>\n",
              "    </tr>\n",
              "    <tr>\n",
              "      <th>130571</th>\n",
              "      <td>1</td>\n",
              "      <td>0</td>\n",
              "      <td>0</td>\n",
              "      <td>0</td>\n",
              "      <td>1</td>\n",
              "    </tr>\n",
              "    <tr>\n",
              "      <th>131845</th>\n",
              "      <td>0</td>\n",
              "      <td>1</td>\n",
              "      <td>0</td>\n",
              "      <td>0</td>\n",
              "      <td>0</td>\n",
              "    </tr>\n",
              "    <tr>\n",
              "      <th>131845</th>\n",
              "      <td>1</td>\n",
              "      <td>0</td>\n",
              "      <td>0</td>\n",
              "      <td>0</td>\n",
              "      <td>1</td>\n",
              "    </tr>\n",
              "    <tr>\n",
              "      <th>136102</th>\n",
              "      <td>0</td>\n",
              "      <td>1</td>\n",
              "      <td>0</td>\n",
              "      <td>0</td>\n",
              "      <td>0</td>\n",
              "    </tr>\n",
              "    <tr>\n",
              "      <th>136102</th>\n",
              "      <td>1</td>\n",
              "      <td>0</td>\n",
              "      <td>0</td>\n",
              "      <td>0</td>\n",
              "      <td>1</td>\n",
              "    </tr>\n",
              "    <tr>\n",
              "      <th>137096</th>\n",
              "      <td>0</td>\n",
              "      <td>0</td>\n",
              "      <td>0</td>\n",
              "      <td>1</td>\n",
              "      <td>0</td>\n",
              "    </tr>\n",
              "    <tr>\n",
              "      <th>137096</th>\n",
              "      <td>0</td>\n",
              "      <td>0</td>\n",
              "      <td>1</td>\n",
              "      <td>0</td>\n",
              "      <td>0</td>\n",
              "    </tr>\n",
              "    <tr>\n",
              "      <th>137864</th>\n",
              "      <td>1</td>\n",
              "      <td>0</td>\n",
              "      <td>0</td>\n",
              "      <td>0</td>\n",
              "      <td>1</td>\n",
              "    </tr>\n",
              "    <tr>\n",
              "      <th>113372</th>\n",
              "      <td>1</td>\n",
              "      <td>0</td>\n",
              "      <td>0</td>\n",
              "      <td>0</td>\n",
              "      <td>1</td>\n",
              "    </tr>\n",
              "    <tr>\n",
              "      <th>122079</th>\n",
              "      <td>0</td>\n",
              "      <td>1</td>\n",
              "      <td>0</td>\n",
              "      <td>0</td>\n",
              "      <td>0</td>\n",
              "    </tr>\n",
              "    <tr>\n",
              "      <th>122079</th>\n",
              "      <td>1</td>\n",
              "      <td>0</td>\n",
              "      <td>0</td>\n",
              "      <td>0</td>\n",
              "      <td>1</td>\n",
              "    </tr>\n",
              "  </tbody>\n",
              "</table>\n",
              "</div>"
            ],
            "text/plain": [
              "        Response_No  ...  Predicted_Cluster\n",
              "id                   ...                   \n",
              "195792            1  ...                  1\n",
              "125192            0  ...                  0\n",
              "125192            1  ...                  1\n",
              "126365            1  ...                  1\n",
              "130571            1  ...                  1\n",
              "131845            0  ...                  0\n",
              "131845            1  ...                  1\n",
              "136102            0  ...                  0\n",
              "136102            1  ...                  1\n",
              "137096            0  ...                  0\n",
              "137096            0  ...                  0\n",
              "137864            1  ...                  1\n",
              "113372            1  ...                  1\n",
              "122079            0  ...                  0\n",
              "122079            1  ...                  1\n",
              "\n",
              "[15 rows x 5 columns]"
            ]
          },
          "metadata": {},
          "execution_count": 50
        }
      ]
    },
    {
      "cell_type": "code",
      "metadata": {
        "id": "SZcuOiZQxrRJ",
        "colab": {
          "base_uri": "https://localhost:8080/",
          "height": 297
        },
        "outputId": "d6383c5f-c162-4a3c-93e2-18b95c3bb414"
      },
      "source": [
        "sns.barplot(x=master_epidural_df.Predicted_Cluster, y=master_epidural_df.index)"
      ],
      "execution_count": 52,
      "outputs": [
        {
          "output_type": "execute_result",
          "data": {
            "text/plain": [
              "<matplotlib.axes._subplots.AxesSubplot at 0x7f83d87211d0>"
            ]
          },
          "metadata": {},
          "execution_count": 52
        },
        {
          "output_type": "display_data",
          "data": {
            "image/png": "[encoded data removed]",
            "text/plain": [
              "<Figure size 432x288 with 1 Axes>"
            ]
          },
          "metadata": {
            "needs_background": "light"
          }
        }
      ]
    },
    {
      "cell_type": "code",
      "metadata": {
        "id": "jLh7Ap58xtIW"
      },
      "source": [
        "# We will now save this data for further visualization in Power BI\n",
        "\n",
        "pathToSave = \"/gdrive/MyDrive/Avegen_Data/quiz_epidural_clusters.csv\""
      ],
      "execution_count": 53,
      "outputs": []
    },
    {
      "cell_type": "code",
      "metadata": {
        "id": "1tcG1YiVxtFe"
      },
      "source": [
        "master_epidural_df.to_csv(pathToSave)"
      ],
      "execution_count": 54,
      "outputs": []
    },
    {
      "cell_type": "code",
      "metadata": {
        "id": "ysyYxXD4xtC9"
      },
      "source": [
        ""
      ],
      "execution_count": null,
      "outputs": []
    },
    {
      "cell_type": "code",
      "metadata": {
        "id": "5uF1ac4yxtAm"
      },
      "source": [
        ""
      ],
      "execution_count": null,
      "outputs": []
    },
    {
      "cell_type": "code",
      "metadata": {
        "id": "v0er_gpuxs9m"
      },
      "source": [
        ""
      ],
      "execution_count": null,
      "outputs": []
    },
    {
      "cell_type": "code",
      "metadata": {
        "id": "Mf7i8lYBxs64"
      },
      "source": [
        ""
      ],
      "execution_count": null,
      "outputs": []
    },
    {
      "cell_type": "code",
      "metadata": {
        "id": "TTuLOqfCxsvK"
      },
      "source": [
        ""
      ],
      "execution_count": null,
      "outputs": []
    }
  ]
}